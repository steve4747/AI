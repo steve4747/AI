{
 "cells": [
  {
   "cell_type": "code",
   "execution_count": 1,
   "id": "dd623899-bcaf-4b52-a3a6-0a69b0b4a6f4",
   "metadata": {},
   "outputs": [],
   "source": [
    "import numpy as np\n",
    "import pandas as pd\n",
    "import matplotlib.pyplot as plt\n",
    "import tensorflow as tf\n",
    "from tensorflow import keras"
   ]
  },
  {
   "cell_type": "code",
   "execution_count": 2,
   "id": "1a77c60a-7d87-4d86-8a1d-4f86b09f99c0",
   "metadata": {},
   "outputs": [],
   "source": [
    "def generate_time_series(m, n_seq):\n",
    "    freq1, freq2, offsets1, offsets2 = np.random.rand(4,m,1)\n",
    "    time = np.linspace(0, 1, n_seq)\n",
    "    series = 0.5 *np.cos((time-offsets1) * (freq1 * 10 + 10))\n",
    "    series += 0.3 *np.sin((time-offsets2) * (freq2 * 20 + 20))\n",
    "    series += 0.1 * (np.random.rand(m, n_seq)-0.5)\n",
    "    return series[..., np.newaxis].astype(np.float32)"
   ]
  },
  {
   "cell_type": "code",
   "execution_count": 3,
   "id": "f96eb923-50cb-44fc-8ae1-bc6522e7af66",
   "metadata": {},
   "outputs": [
    {
     "data": {
      "text/plain": [
       "(5000, 40, 1)"
      ]
     },
     "execution_count": 3,
     "metadata": {},
     "output_type": "execute_result"
    }
   ],
   "source": [
    "np.random.seed(1)\n",
    "n_seq = 30\n",
    "n_pred = 10\n",
    "\n",
    "series = generate_time_series(5000, n_seq+n_pred)\n",
    "series.shape"
   ]
  },
  {
   "cell_type": "code",
   "execution_count": 4,
   "id": "eb5baca3-0bdb-4a4d-b879-43708c55846b",
   "metadata": {},
   "outputs": [],
   "source": [
    "x_train = series[:3000, :n_seq]\n",
    "x_valid = series[3000:4000, :n_seq]\n",
    "x_test = series[4000:,:n_seq]"
   ]
  },
  {
   "cell_type": "code",
   "execution_count": 5,
   "id": "38fb1feb-bca1-47dc-baee-02e3db578da7",
   "metadata": {},
   "outputs": [],
   "source": [
    "y = np.empty((5000, n_seq, n_pred))\n",
    "\n",
    "for step_ahead in range(1, n_pred+1):\n",
    "    y[..., step_ahead - 1] = series[..., step_ahead:step_ahead + n_seq,0]\n",
    "\n",
    "y_train = y[:3000]\n",
    "y_valid = y[3000:4000]\n",
    "y_test = y[4000:]"
   ]
  },
  {
   "cell_type": "code",
   "execution_count": 6,
   "id": "0dd4328a-60eb-49fc-9cd8-5d348d523168",
   "metadata": {},
   "outputs": [
    {
     "data": {
      "text/plain": [
       "((3000, 30, 1), (3000, 30, 10))"
      ]
     },
     "execution_count": 6,
     "metadata": {},
     "output_type": "execute_result"
    }
   ],
   "source": [
    "x_train.shape, y_train.shape"
   ]
  },
  {
   "cell_type": "code",
   "execution_count": 7,
   "id": "c58b8c3b-a859-492a-b898-d8dc566a3839",
   "metadata": {},
   "outputs": [],
   "source": [
    "def plot_seq(x, y, y_pred=None):\n",
    "    plt.plot(x, '.-')\n",
    "    n_seq = x.shape[0]\n",
    "    ahead = y.shape[0]\n",
    "    plt.plot(np.arange(n_seq, n_seq+ahead), y, 'go-', label='$y$')\n",
    "    if y_pred is not None:\n",
    "        plt.plot(np.arange(n_seq, n_seq+ahead), y_pred, 'rx-',\n",
    "                label='$\\hat y$', markersize=10)\n",
    "    plt.hlines(0, 0, n_seq + ahead, linewidth = 1)\n",
    "    plt.axis([0, n_seq +ahead, -1, 1])\n",
    "    plt.grid(True)\n",
    "    plt.legend(fontsize=14)"
   ]
  },
  {
   "cell_type": "code",
   "execution_count": 8,
   "id": "0eb76049-1955-4215-95f0-60a51748ff26",
   "metadata": {},
   "outputs": [
    {
     "data": {
      "image/png": "[encoded data removed]",
      "text/plain": [
       "<Figure size 432x288 with 1 Axes>"
      ]
     },
     "metadata": {
      "needs_background": "light"
     },
     "output_type": "display_data"
    }
   ],
   "source": [
    "plot_seq(x_test[0,:,0], y_test[0,-1])"
   ]
  },
  {
   "cell_type": "code",
   "execution_count": 9,
   "id": "c7f92413-a6a5-4fc9-8fa8-6b59eacd326a",
   "metadata": {},
   "outputs": [],
   "source": [
    "np.random.seed(1)\n",
    "tf.random.set_seed(1)"
   ]
  },
  {
   "cell_type": "code",
   "execution_count": 10,
   "id": "6e671429-1fe3-481f-87a1-d9302411d67d",
   "metadata": {},
   "outputs": [],
   "source": [
    "model = keras.models.Sequential([\n",
    "    keras.layers.GRU(20, return_sequences=True, input_shape=[None, 1]),\n",
    "    keras.layers.GRU(20, return_sequences=True),\n",
    "    keras.layers.TimeDistributed(keras.layers.Dense(10))\n",
    "])"
   ]
  },
  {
   "cell_type": "code",
   "execution_count": 11,
   "id": "e4a273f7-521e-43c0-90a0-1616ee282488",
   "metadata": {},
   "outputs": [
    {
     "name": "stdout",
     "output_type": "stream",
     "text": [
      "Model: \"sequential\"\n",
      "_________________________________________________________________\n",
      " Layer (type)                Output Shape              Param #   \n",
      "=================================================================\n",
      " gru (GRU)                   (None, None, 20)          1380      \n",
      "                                                                 \n",
      " gru_1 (GRU)                 (None, None, 20)          2520      \n",
      "                                                                 \n",
      " time_distributed (TimeDistr  (None, None, 10)         210       \n",
      " ibuted)                                                         \n",
      "                                                                 \n",
      "=================================================================\n",
      "Total params: 4,110\n",
      "Trainable params: 4,110\n",
      "Non-trainable params: 0\n",
      "_________________________________________________________________\n"
     ]
    }
   ],
   "source": [
    "model.summary()"
   ]
  },
  {
   "cell_type": "code",
   "execution_count": 12,
   "id": "ce2f6931-e10a-4186-9486-b6821d1245a1",
   "metadata": {},
   "outputs": [],
   "source": [
    "def last_time_step_mse(y_true, y_pred):\n",
    "    return keras.metrics.mean_squared_error(y_true[:,-1],y_pred[:,-1])\n",
    "\n",
    "model.compile(loss='mse', optimizer=keras.optimizers.Adam(learning_rate=0.01),\n",
    "             metrics=[last_time_step_mse])"
   ]
  },
  {
   "cell_type": "code",
   "execution_count": 13,
   "id": "f490d1a8-90ce-44d6-a65e-b34e352219c6",
   "metadata": {},
   "outputs": [
    {
     "name": "stdout",
     "output_type": "stream",
     "text": [
      "Epoch 1/20\n",
      "94/94 [==============================] - 7s 33ms/step - loss: 0.0991 - last_time_step_mse: 0.0924 - val_loss: 0.0872 - val_last_time_step_mse: 0.0786\n",
      "Epoch 2/20\n",
      "94/94 [==============================] - 2s 21ms/step - loss: 0.0774 - last_time_step_mse: 0.0647 - val_loss: 0.0718 - val_last_time_step_mse: 0.0562\n",
      "Epoch 3/20\n",
      "94/94 [==============================] - 2s 20ms/step - loss: 0.0620 - last_time_step_mse: 0.0412 - val_loss: 0.0557 - val_last_time_step_mse: 0.0300\n",
      "Epoch 4/20\n",
      "94/94 [==============================] - 2s 21ms/step - loss: 0.0507 - last_time_step_mse: 0.0238 - val_loss: 0.0467 - val_last_time_step_mse: 0.0198\n",
      "Epoch 5/20\n",
      "94/94 [==============================] - 2s 24ms/step - loss: 0.0440 - last_time_step_mse: 0.0168 - val_loss: 0.0412 - val_last_time_step_mse: 0.0139\n",
      "Epoch 6/20\n",
      "94/94 [==============================] - 2s 26ms/step - loss: 0.0409 - last_time_step_mse: 0.0147 - val_loss: 0.0400 - val_last_time_step_mse: 0.0146\n",
      "Epoch 7/20\n",
      "94/94 [==============================] - 2s 25ms/step - loss: 0.0386 - last_time_step_mse: 0.0125 - val_loss: 0.0370 - val_last_time_step_mse: 0.0103\n",
      "Epoch 8/20\n",
      "94/94 [==============================] - 2s 25ms/step - loss: 0.0371 - last_time_step_mse: 0.0115 - val_loss: 0.0378 - val_last_time_step_mse: 0.0127\n",
      "Epoch 9/20\n",
      "94/94 [==============================] - 3s 30ms/step - loss: 0.0358 - last_time_step_mse: 0.0105 - val_loss: 0.0349 - val_last_time_step_mse: 0.0094\n",
      "Epoch 10/20\n",
      "94/94 [==============================] - 2s 25ms/step - loss: 0.0346 - last_time_step_mse: 0.0095 - val_loss: 0.0339 - val_last_time_step_mse: 0.0086\n",
      "Epoch 11/20\n",
      "94/94 [==============================] - 2s 24ms/step - loss: 0.0341 - last_time_step_mse: 0.0093 - val_loss: 0.0338 - val_last_time_step_mse: 0.0095\n",
      "Epoch 12/20\n",
      "94/94 [==============================] - 2s 26ms/step - loss: 0.0336 - last_time_step_mse: 0.0091 - val_loss: 0.0334 - val_last_time_step_mse: 0.0089\n",
      "Epoch 13/20\n",
      "94/94 [==============================] - 3s 27ms/step - loss: 0.0331 - last_time_step_mse: 0.0086 - val_loss: 0.0324 - val_last_time_step_mse: 0.0080\n",
      "Epoch 14/20\n",
      "94/94 [==============================] - 3s 27ms/step - loss: 0.0324 - last_time_step_mse: 0.0082 - val_loss: 0.0320 - val_last_time_step_mse: 0.0075\n",
      "Epoch 15/20\n",
      "94/94 [==============================] - 2s 26ms/step - loss: 0.0324 - last_time_step_mse: 0.0085 - val_loss: 0.0328 - val_last_time_step_mse: 0.0094\n",
      "Epoch 16/20\n",
      "94/94 [==============================] - 2s 25ms/step - loss: 0.0320 - last_time_step_mse: 0.0082 - val_loss: 0.0322 - val_last_time_step_mse: 0.0089\n",
      "Epoch 17/20\n",
      "94/94 [==============================] - 3s 27ms/step - loss: 0.0317 - last_time_step_mse: 0.0080 - val_loss: 0.0309 - val_last_time_step_mse: 0.0080\n",
      "Epoch 18/20\n",
      "94/94 [==============================] - 3s 30ms/step - loss: 0.0309 - last_time_step_mse: 0.0073 - val_loss: 0.0305 - val_last_time_step_mse: 0.0070\n",
      "Epoch 19/20\n",
      "94/94 [==============================] - 3s 30ms/step - loss: 0.0311 - last_time_step_mse: 0.0077 - val_loss: 0.0301 - val_last_time_step_mse: 0.0070\n",
      "Epoch 20/20\n",
      "94/94 [==============================] - 3s 27ms/step - loss: 0.0308 - last_time_step_mse: 0.0076 - val_loss: 0.0319 - val_last_time_step_mse: 0.0092\n"
     ]
    }
   ],
   "source": [
    "train = model.fit(x_train, y_train, epochs=20, validation_data=(x_valid, y_valid))"
   ]
  },
  {
   "cell_type": "code",
   "execution_count": 14,
   "id": "a05b1b2f-019c-4d40-88fb-0a540f636e3c",
   "metadata": {},
   "outputs": [
    {
     "data": {
      "image/png": "[encoded data removed]",
      "text/plain": [
       "<Figure size 576x360 with 1 Axes>"
      ]
     },
     "metadata": {
      "needs_background": "light"
     },
     "output_type": "display_data"
    }
   ],
   "source": [
    "pd.DataFrame(train.history).plot(figsize=(8,5))\n",
    "plt.grid(True)\n",
    "plt.ylim(0,0.1)\n",
    "plt.show()"
   ]
  },
  {
   "cell_type": "code",
   "execution_count": 15,
   "id": "814f6f09-2498-43ef-9c67-4580412c0968",
   "metadata": {},
   "outputs": [
    {
     "name": "stdout",
     "output_type": "stream",
     "text": [
      "32/32 [==============================] - 0s 5ms/step - loss: 0.0321 - last_time_step_mse: 0.0090\n"
     ]
    },
    {
     "data": {
      "text/plain": [
       "[0.03213327005505562, 0.008990923874080181]"
      ]
     },
     "execution_count": 15,
     "metadata": {},
     "output_type": "execute_result"
    }
   ],
   "source": [
    "model.evaluate(x_test,y_test)"
   ]
  },
  {
   "cell_type": "code",
   "execution_count": 16,
   "id": "f3b43b96-d507-4333-a572-fa44e3c45db0",
   "metadata": {},
   "outputs": [
    {
     "name": "stdout",
     "output_type": "stream",
     "text": [
      "32/32 [==============================] - 1s 7ms/step\n"
     ]
    }
   ],
   "source": [
    "y_pred = model.predict(x_test)"
   ]
  },
  {
   "cell_type": "code",
   "execution_count": 17,
   "id": "97ac5c7e-401d-4358-833a-7e1f1afd5301",
   "metadata": {},
   "outputs": [
    {
     "data": {
      "text/plain": [
       "((1000, 30, 10), (1000, 30, 10))"
      ]
     },
     "execution_count": 17,
     "metadata": {},
     "output_type": "execute_result"
    }
   ],
   "source": [
    "y_test.shape, y_pred.shape"
   ]
  },
  {
   "cell_type": "code",
   "execution_count": null,
   "id": "cbc190ef-2c23-4d79-b2d6-1d5ed7bf081a",
   "metadata": {},
   "outputs": [],
   "source": [
    "i ="
   ]
  }
 ],
 "metadata": {
  "kernelspec": {
   "display_name": "Python 3",
   "language": "python",
   "name": "python3"
  },
  "language_info": {
   "codemirror_mode": {
    "name": "ipython",
    "version": 3
   },
   "file_extension": ".py",
   "mimetype": "text/x-python",
   "name": "python",
   "nbconvert_exporter": "python",
   "pygments_lexer": "ipython3",
   "version": "3.8.8"
  }
 },
 "nbformat": 4,
 "nbformat_minor": 5
}
