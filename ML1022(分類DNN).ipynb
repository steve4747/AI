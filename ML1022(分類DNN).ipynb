{
 "cells": [
  {
   "cell_type": "code",
   "execution_count": 19,
   "id": "dafc5f2c-23db-483c-af4e-e90417f76cb1",
   "metadata": {},
   "outputs": [],
   "source": [
    "import numpy as np\n",
    "import pandas as pd\n",
    "import matplotlib.pyplot as plt"
   ]
  },
  {
   "cell_type": "code",
   "execution_count": 20,
   "id": "b0b6eb6a-6956-4c03-867a-73b1cb5b529e",
   "metadata": {},
   "outputs": [],
   "source": [
    "from tensorflow.keras.datasets import fashion_mnist\n",
    "\n",
    "(x_train_set, y_train_set), (x_test, y_test) = fashion_mnist.load_data()"
   ]
  },
  {
   "cell_type": "code",
   "execution_count": 21,
   "id": "44fc104b-0b57-432d-b98c-93b456d010fb",
   "metadata": {},
   "outputs": [
    {
     "data": {
      "text/plain": [
       "((60000, 28, 28), (60000,), (10000, 28, 28), (10000,))"
      ]
     },
     "execution_count": 21,
     "metadata": {},
     "output_type": "execute_result"
    }
   ],
   "source": [
    "x_train_set.shape, y_train_set.shape, x_test.shape, y_test.shape"
   ]
  },
  {
   "cell_type": "code",
   "execution_count": 22,
   "id": "4a790b67-284b-411f-8624-313789740ca7",
   "metadata": {},
   "outputs": [
    {
     "name": "stdout",
     "output_type": "stream",
     "text": [
      "9\n"
     ]
    },
    {
     "data": {
      "image/png": "[encoded data removed]",
      "text/plain": [
       "<Figure size 432x288 with 1 Axes>"
      ]
     },
     "metadata": {
      "needs_background": "light"
     },
     "output_type": "display_data"
    }
   ],
   "source": [
    "#畫出樣本\n",
    "i = 0\n",
    "print(y_train_set[i])\n",
    "plt.imshow(x_train_set[i], cmap='binary')\n",
    "plt.show()"
   ]
  },
  {
   "cell_type": "code",
   "execution_count": 23,
   "id": "e8324a58-793d-4baf-a4be-0c84b04f6db3",
   "metadata": {},
   "outputs": [],
   "source": [
    "from sklearn.model_selection import train_test_split\n",
    "x_train,x_valid, y_train, y_valid = train_test_split(x_train_set, y_train_set, random_state=1)"
   ]
  },
  {
   "cell_type": "code",
   "execution_count": 24,
   "id": "cd8c15b2-26e3-479c-9391-883008091bd4",
   "metadata": {},
   "outputs": [],
   "source": [
    "x_train = x_train/255.0\n",
    "x_valid = x_valid/255.0\n",
    "x_test = x_test/255.0"
   ]
  },
  {
   "cell_type": "code",
   "execution_count": 25,
   "id": "621d09ea-0368-4bdd-b7e9-e9bdde8629be",
   "metadata": {},
   "outputs": [],
   "source": [
    "import tensorflow as tf\n",
    "from tensorflow import keras\n",
    "from tensorflow.keras.models import Sequential\n",
    "from tensorflow.keras.layers import Flatten, Dense\n",
    "\n",
    "keras.backend.clear_session()\n",
    "np.random.seed(1)\n",
    "tf.random.set_seed(1)"
   ]
  },
  {
   "cell_type": "code",
   "execution_count": 26,
   "id": "a946a34e-8932-4786-b409-edaec4a3fa72",
   "metadata": {},
   "outputs": [],
   "source": [
    "model = Sequential([\n",
    "    Flatten(input_shape=x_train.shape[1:]),\n",
    "    Dense(units=300, activation='relu'),\n",
    "    Dense(units=200, activation='relu'),\n",
    "    Dense(units=100, activation='relu'),\n",
    "    Dense(units=10, activation='softmax'),\n",
    "])"
   ]
  },
  {
   "cell_type": "code",
   "execution_count": 27,
   "id": "7972aa64-6eae-48ac-ae40-8be5688f13a3",
   "metadata": {},
   "outputs": [
    {
     "name": "stdout",
     "output_type": "stream",
     "text": [
      "Model: \"sequential\"\n",
      "_________________________________________________________________\n",
      " Layer (type)                Output Shape              Param #   \n",
      "=================================================================\n",
      " flatten (Flatten)           (None, 784)               0         \n",
      "                                                                 \n",
      " dense (Dense)               (None, 300)               235500    \n",
      "                                                                 \n",
      " dense_1 (Dense)             (None, 200)               60200     \n",
      "                                                                 \n",
      " dense_2 (Dense)             (None, 100)               20100     \n",
      "                                                                 \n",
      " dense_3 (Dense)             (None, 10)                1010      \n",
      "                                                                 \n",
      "=================================================================\n",
      "Total params: 316,810\n",
      "Trainable params: 316,810\n",
      "Non-trainable params: 0\n",
      "_________________________________________________________________\n"
     ]
    }
   ],
   "source": [
    "model.summary()"
   ]
  },
  {
   "cell_type": "code",
   "execution_count": 28,
   "id": "1c4a2bb2-0e25-4705-982c-47e315e76640",
   "metadata": {},
   "outputs": [],
   "source": [
    "model.compile(loss='sparse_categorical_crossentropy', optimizer='sgd', metrics=['accuracy'])"
   ]
  },
  {
   "cell_type": "code",
   "execution_count": 30,
   "id": "a8b1c0f2-8374-4cab-ba92-f977671b967d",
   "metadata": {},
   "outputs": [
    {
     "name": "stdout",
     "output_type": "stream",
     "text": [
      "Epoch 1/20\n",
      "1407/1407 [==============================] - 5s 4ms/step - loss: 0.2461 - accuracy: 0.9103 - val_loss: 0.3453 - val_accuracy: 0.8761\n",
      "Epoch 2/20\n",
      "1407/1407 [==============================] - 5s 3ms/step - loss: 0.2400 - accuracy: 0.9126 - val_loss: 0.3247 - val_accuracy: 0.8833\n",
      "Epoch 3/20\n",
      "1407/1407 [==============================] - 5s 4ms/step - loss: 0.2357 - accuracy: 0.9137 - val_loss: 0.3144 - val_accuracy: 0.8871\n",
      "Epoch 4/20\n",
      "1407/1407 [==============================] - 5s 3ms/step - loss: 0.2310 - accuracy: 0.9156 - val_loss: 0.3210 - val_accuracy: 0.8869\n",
      "Epoch 5/20\n",
      "1407/1407 [==============================] - 5s 3ms/step - loss: 0.2261 - accuracy: 0.9168 - val_loss: 0.5841 - val_accuracy: 0.7935\n",
      "Epoch 6/20\n",
      "1407/1407 [==============================] - 5s 4ms/step - loss: 0.2212 - accuracy: 0.9198 - val_loss: 0.4506 - val_accuracy: 0.8520\n",
      "Epoch 7/20\n",
      "1407/1407 [==============================] - 5s 4ms/step - loss: 0.2158 - accuracy: 0.9214 - val_loss: 0.3268 - val_accuracy: 0.8821\n",
      "Epoch 8/20\n",
      "1407/1407 [==============================] - 5s 4ms/step - loss: 0.2111 - accuracy: 0.9228 - val_loss: 0.3266 - val_accuracy: 0.8850\n",
      "Epoch 9/20\n",
      "1407/1407 [==============================] - 5s 4ms/step - loss: 0.2065 - accuracy: 0.9243 - val_loss: 0.3677 - val_accuracy: 0.8739\n",
      "Epoch 10/20\n",
      "1407/1407 [==============================] - 5s 4ms/step - loss: 0.2020 - accuracy: 0.9258 - val_loss: 0.4055 - val_accuracy: 0.8617\n",
      "Epoch 11/20\n",
      "1407/1407 [==============================] - 5s 4ms/step - loss: 0.1984 - accuracy: 0.9274 - val_loss: 0.3202 - val_accuracy: 0.8889\n",
      "Epoch 12/20\n",
      "1407/1407 [==============================] - 5s 4ms/step - loss: 0.1946 - accuracy: 0.9289 - val_loss: 0.5339 - val_accuracy: 0.8265\n",
      "Epoch 13/20\n",
      "1407/1407 [==============================] - 5s 4ms/step - loss: 0.1905 - accuracy: 0.9299 - val_loss: 0.3669 - val_accuracy: 0.8711\n",
      "Epoch 14/20\n",
      "1407/1407 [==============================] - 5s 4ms/step - loss: 0.1850 - accuracy: 0.9326 - val_loss: 0.3265 - val_accuracy: 0.8854\n",
      "Epoch 15/20\n",
      "1407/1407 [==============================] - 5s 4ms/step - loss: 0.1824 - accuracy: 0.9334 - val_loss: 0.4363 - val_accuracy: 0.8521\n",
      "Epoch 16/20\n",
      "1407/1407 [==============================] - 5s 4ms/step - loss: 0.1779 - accuracy: 0.9358 - val_loss: 0.3337 - val_accuracy: 0.8836\n",
      "Epoch 17/20\n",
      "1407/1407 [==============================] - 5s 4ms/step - loss: 0.1747 - accuracy: 0.9356 - val_loss: 0.4081 - val_accuracy: 0.8666\n",
      "Epoch 18/20\n",
      "1407/1407 [==============================] - 5s 4ms/step - loss: 0.1706 - accuracy: 0.9371 - val_loss: 0.3508 - val_accuracy: 0.8831\n",
      "Epoch 19/20\n",
      "1407/1407 [==============================] - 5s 4ms/step - loss: 0.1661 - accuracy: 0.9393 - val_loss: 0.3296 - val_accuracy: 0.8883\n",
      "Epoch 20/20\n",
      "1407/1407 [==============================] - 5s 4ms/step - loss: 0.1618 - accuracy: 0.9408 - val_loss: 0.3209 - val_accuracy: 0.8932\n"
     ]
    }
   ],
   "source": [
    "train = model.fit(x_train, y_train, epochs=20, validation_data=(x_valid, y_valid))"
   ]
  },
  {
   "cell_type": "code",
   "execution_count": 31,
   "id": "31cde023-6322-4466-bf1c-633409e0d97a",
   "metadata": {},
   "outputs": [
    {
     "data": {
      "image/png": "[encoded data removed]",
      "text/plain": [
       "<Figure size 432x288 with 1 Axes>"
      ]
     },
     "metadata": {
      "needs_background": "light"
     },
     "output_type": "display_data"
    }
   ],
   "source": [
    "pd.DataFrame(train.history).plot()\n",
    "plt.grid(True)\n",
    "plt.show()"
   ]
  },
  {
   "cell_type": "code",
   "execution_count": 33,
   "id": "15d961df-4b35-486a-afdb-e38b323e37f0",
   "metadata": {},
   "outputs": [
    {
     "name": "stdout",
     "output_type": "stream",
     "text": [
      "313/313 [==============================] - 1s 2ms/step - loss: 0.3461 - accuracy: 0.8884\n"
     ]
    },
    {
     "data": {
      "text/plain": [
       "[0.3460966944694519, 0.8884000182151794]"
      ]
     },
     "execution_count": 33,
     "metadata": {},
     "output_type": "execute_result"
    }
   ],
   "source": [
    "#evaluate\n",
    "model.evaluate(x_test, y_test)"
   ]
  },
  {
   "cell_type": "code",
   "execution_count": 34,
   "id": "626337c4-613e-496d-9cb6-14df05734244",
   "metadata": {},
   "outputs": [
    {
     "name": "stdout",
     "output_type": "stream",
     "text": [
      "313/313 [==============================] - 1s 2ms/step\n"
     ]
    },
    {
     "data": {
      "text/plain": [
       "array([[0.  , 0.  , 0.  , 0.  , 0.  , 0.  , 0.  , 0.01, 0.  , 0.99],\n",
       "       [0.  , 0.  , 1.  , 0.  , 0.  , 0.  , 0.  , 0.  , 0.  , 0.  ],\n",
       "       [0.  , 1.  , 0.  , 0.  , 0.  , 0.  , 0.  , 0.  , 0.  , 0.  ]],\n",
       "      dtype=float32)"
      ]
     },
     "execution_count": 34,
     "metadata": {},
     "output_type": "execute_result"
    }
   ],
   "source": [
    "#Predict\n",
    "\n",
    "y_proba = model.predict(x_test)\n",
    "y_proba[:3].round(2)"
   ]
  },
  {
   "cell_type": "code",
   "execution_count": 35,
   "id": "74bc093a-609b-41b8-a075-56f63426f649",
   "metadata": {},
   "outputs": [
    {
     "data": {
      "text/plain": [
       "array([9, 2, 1], dtype=int64)"
      ]
     },
     "execution_count": 35,
     "metadata": {},
     "output_type": "execute_result"
    }
   ],
   "source": [
    "y_pred = np.argmax(y_proba, axis=1)\n",
    "y_pred[:3]"
   ]
  },
  {
   "cell_type": "code",
   "execution_count": 36,
   "id": "cb89054f-84c4-4d23-bf4e-27ba8f456f75",
   "metadata": {},
   "outputs": [
    {
     "data": {
      "text/plain": [
       "array([9, 2, 1], dtype=uint8)"
      ]
     },
     "execution_count": 36,
     "metadata": {},
     "output_type": "execute_result"
    }
   ],
   "source": [
    "y_test[:3]"
   ]
  },
  {
   "cell_type": "code",
   "execution_count": 38,
   "id": "58cc9565-b3c1-4390-89e0-fdb1bf0d5916",
   "metadata": {},
   "outputs": [
    {
     "data": {
      "text/plain": [
       "array([[837,   0,  15,  31,   3,   3,  99,   0,  12,   0],\n",
       "       [  1, 965,   3,  24,   4,   0,   2,   0,   1,   0],\n",
       "       [ 10,   0, 820,  19,  69,   0,  80,   0,   2,   0],\n",
       "       [ 17,   5,   8, 942,  10,   1,  11,   0,   6,   0],\n",
       "       [  1,   0, 102,  60, 762,   0,  69,   0,   6,   0],\n",
       "       [  0,   0,   0,   1,   0, 964,   0,  25,   1,   9],\n",
       "       [107,   1,  67,  40,  43,   0, 727,   0,  15,   0],\n",
       "       [  0,   0,   0,   0,   0,  18,   0, 969,   1,  12],\n",
       "       [  5,   0,   4,   8,   2,   2,   4,   5, 970,   0],\n",
       "       [  0,   0,   0,   0,   0,  13,   1,  58,   0, 928]], dtype=int64)"
      ]
     },
     "execution_count": 38,
     "metadata": {},
     "output_type": "execute_result"
    }
   ],
   "source": [
    "from sklearn.metrics import confusion_matrix\n",
    "\n",
    "confusion_matrix(y_test, y_pred)"
   ]
  },
  {
   "cell_type": "code",
   "execution_count": null,
   "id": "6720b1b8-5c77-4f9c-ab02-68bd45e46aa4",
   "metadata": {},
   "outputs": [],
   "source": []
  }
 ],
 "metadata": {
  "kernelspec": {
   "display_name": "Python 3",
   "language": "python",
   "name": "python3"
  },
  "language_info": {
   "codemirror_mode": {
    "name": "ipython",
    "version": 3
   },
   "file_extension": ".py",
   "mimetype": "text/x-python",
   "name": "python",
   "nbconvert_exporter": "python",
   "pygments_lexer": "ipython3",
   "version": "3.8.8"
  }
 },
 "nbformat": 4,
 "nbformat_minor": 5
}
