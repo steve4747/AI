{
 "cells": [
  {
   "cell_type": "code",
   "execution_count": 1,
   "id": "b7d6b867-ce0c-41a6-a49d-69a21bf74d14",
   "metadata": {},
   "outputs": [],
   "source": [
    "import numpy as np\n",
    "import pandas as pd\n",
    "import matplotlib.pyplot as plt"
   ]
  },
  {
   "cell_type": "code",
   "execution_count": 2,
   "id": "f67a5f86-1fed-451a-9d21-17b92f1c4a8f",
   "metadata": {},
   "outputs": [],
   "source": [
    "from tensorflow.keras.datasets import boston_housing\n",
    "\n",
    "(x_train_set, y_train_set), (x_test, y_test) = boston_housing.load_data()"
   ]
  },
  {
   "cell_type": "code",
   "execution_count": 3,
   "id": "97ea99a0-e1a3-4bd1-84bf-070ef0ad2c7b",
   "metadata": {},
   "outputs": [
    {
     "data": {
      "text/plain": [
       "((404, 13), (404,), (102, 13), (102,))"
      ]
     },
     "execution_count": 3,
     "metadata": {},
     "output_type": "execute_result"
    }
   ],
   "source": [
    "x_train_set.shape, y_train_set.shape, x_test.shape, y_test.shape"
   ]
  },
  {
   "cell_type": "code",
   "execution_count": 4,
   "id": "885a2ca5-8cd7-43ca-ba05-21db696f9670",
   "metadata": {},
   "outputs": [],
   "source": [
    "from sklearn.model_selection import train_test_split\n",
    "\n",
    "x_train, x_valid, y_train, y_valid = train_test_split(x_train_set, y_train_set, random_state=1)"
   ]
  },
  {
   "cell_type": "code",
   "execution_count": 5,
   "id": "20332bc8-e497-4fa1-b185-3eb3ae84fe78",
   "metadata": {},
   "outputs": [],
   "source": [
    "from sklearn.preprocessing import StandardScaler\n",
    "\n",
    "scal = StandardScaler()\n",
    "\n",
    "x_train = scal.fit_transform(x_train)\n",
    "x_valid = scal.transform(x_valid)\n",
    "x_test = scal.transform(x_test)"
   ]
  },
  {
   "cell_type": "code",
   "execution_count": 6,
   "id": "bb0c5731-a0e1-4c2e-b4f6-776328d5d329",
   "metadata": {},
   "outputs": [],
   "source": [
    "#Build Model\n",
    "\n",
    "import tensorflow as tf\n",
    "from tensorflow import keras\n",
    "from tensorflow.keras.models import Sequential\n",
    "from tensorflow.keras.layers import Dense\n",
    "from tensorflow.keras.optimizers import SGD\n",
    "\n",
    "keras.backend.clear_session()\n",
    "np.random.seed(1)\n",
    "tf.random.set_seed(1)"
   ]
  },
  {
   "cell_type": "code",
   "execution_count": 7,
   "id": "8730e7a0-2158-4759-bf01-9d445faeaffb",
   "metadata": {},
   "outputs": [],
   "source": [
    "model = Sequential()\n",
    "model.add(Dense(units=100, activation='relu', input_shape=x_train.shape[1:]))\n",
    "model.add(Dense(units=50, activation='relu'))\n",
    "model.add(Dense(units=1))"
   ]
  },
  {
   "cell_type": "code",
   "execution_count": 8,
   "id": "0cde42e0-d5c5-4d3e-8da2-3e51f70e94eb",
   "metadata": {},
   "outputs": [
    {
     "name": "stdout",
     "output_type": "stream",
     "text": [
      "Model: \"sequential\"\n",
      "_________________________________________________________________\n",
      " Layer (type)                Output Shape              Param #   \n",
      "=================================================================\n",
      " dense (Dense)               (None, 100)               1400      \n",
      "                                                                 \n",
      " dense_1 (Dense)             (None, 50)                5050      \n",
      "                                                                 \n",
      " dense_2 (Dense)             (None, 1)                 51        \n",
      "                                                                 \n",
      "=================================================================\n",
      "Total params: 6,501\n",
      "Trainable params: 6,501\n",
      "Non-trainable params: 0\n",
      "_________________________________________________________________\n"
     ]
    }
   ],
   "source": [
    "model.summary()"
   ]
  },
  {
   "cell_type": "code",
   "execution_count": 9,
   "id": "b20d975f-4eed-45bb-82d4-f8edd528abc3",
   "metadata": {},
   "outputs": [],
   "source": [
    "weights, biases = model.layers[1].get_weights()"
   ]
  },
  {
   "cell_type": "code",
   "execution_count": 10,
   "id": "453e084c-4511-4273-a664-7a07ddb83762",
   "metadata": {},
   "outputs": [
    {
     "data": {
      "text/plain": [
       "((50,),\n",
       " array([0., 0., 0., 0., 0., 0., 0., 0., 0., 0., 0., 0., 0., 0., 0., 0., 0.,\n",
       "        0., 0., 0., 0., 0., 0., 0., 0., 0., 0., 0., 0., 0., 0., 0., 0., 0.,\n",
       "        0., 0., 0., 0., 0., 0., 0., 0., 0., 0., 0., 0., 0., 0., 0., 0.],\n",
       "       dtype=float32))"
      ]
     },
     "execution_count": 10,
     "metadata": {},
     "output_type": "execute_result"
    }
   ],
   "source": [
    "biases.shape,biases"
   ]
  },
  {
   "cell_type": "code",
   "execution_count": 11,
   "id": "54872f13-f6a1-41ed-8e79-fe63fd21da37",
   "metadata": {},
   "outputs": [
    {
     "data": {
      "text/plain": [
       "((100, 50),\n",
       " array([[-0.19203119,  0.02427587, -0.1509232 , ..., -0.06033793,\n",
       "         -0.05577564,  0.12381087],\n",
       "        [-0.09644122,  0.00063482,  0.16225992, ...,  0.05465813,\n",
       "          0.09438671,  0.13005333],\n",
       "        [ 0.15203242, -0.16479054,  0.12914415, ..., -0.04216857,\n",
       "          0.06057568, -0.1973515 ],\n",
       "        ...,\n",
       "        [-0.19456263,  0.03786702,  0.01290742, ...,  0.18546273,\n",
       "         -0.01734504,  0.10431542],\n",
       "        [-0.16025023, -0.08383689,  0.13890295, ..., -0.0348649 ,\n",
       "         -0.0386066 , -0.05496874],\n",
       "        [-0.01067582,  0.11649738, -0.15537095, ..., -0.15597606,\n",
       "         -0.09923587,  0.08725439]], dtype=float32))"
      ]
     },
     "execution_count": 11,
     "metadata": {},
     "output_type": "execute_result"
    }
   ],
   "source": [
    "weights.shape,weights"
   ]
  },
  {
   "cell_type": "code",
   "execution_count": 12,
   "id": "1fc3bd82-5b81-415f-8c6f-eec7cfcfa8d7",
   "metadata": {},
   "outputs": [],
   "source": [
    "#compile\n",
    "\n",
    "model.compile(loss='mse', optimizer=SGD(learning_rate=1e-3))"
   ]
  },
  {
   "cell_type": "code",
   "execution_count": 13,
   "id": "4cf5b29f-ac7a-4680-8de8-8bdd93d4e9fc",
   "metadata": {},
   "outputs": [
    {
     "name": "stdout",
     "output_type": "stream",
     "text": [
      "Epoch 1/20\n",
      "10/10 [==============================] - 1s 21ms/step - loss: 504.9669 - val_loss: 344.7118\n",
      "Epoch 2/20\n",
      "10/10 [==============================] - 0s 5ms/step - loss: 177.8345 - val_loss: 63.6017\n",
      "Epoch 3/20\n",
      "10/10 [==============================] - 0s 4ms/step - loss: 42.3829 - val_loss: 34.9969\n",
      "Epoch 4/20\n",
      "10/10 [==============================] - 0s 6ms/step - loss: 27.6433 - val_loss: 27.2797\n",
      "Epoch 5/20\n",
      "10/10 [==============================] - 0s 5ms/step - loss: 22.4569 - val_loss: 23.6108\n",
      "Epoch 6/20\n",
      "10/10 [==============================] - 0s 5ms/step - loss: 19.8627 - val_loss: 21.8598\n",
      "Epoch 7/20\n",
      "10/10 [==============================] - 0s 4ms/step - loss: 18.1589 - val_loss: 19.7388\n",
      "Epoch 8/20\n",
      "10/10 [==============================] - 0s 6ms/step - loss: 16.8801 - val_loss: 18.9204\n",
      "Epoch 9/20\n",
      "10/10 [==============================] - 0s 5ms/step - loss: 15.6924 - val_loss: 17.8159\n",
      "Epoch 10/20\n",
      "10/10 [==============================] - 0s 6ms/step - loss: 14.5365 - val_loss: 16.3160\n",
      "Epoch 11/20\n",
      "10/10 [==============================] - 0s 5ms/step - loss: 14.1117 - val_loss: 16.3807\n",
      "Epoch 12/20\n",
      "10/10 [==============================] - 0s 5ms/step - loss: 13.2724 - val_loss: 16.1458\n",
      "Epoch 13/20\n",
      "10/10 [==============================] - 0s 5ms/step - loss: 12.7452 - val_loss: 15.3334\n",
      "Epoch 14/20\n",
      "10/10 [==============================] - 0s 5ms/step - loss: 12.0908 - val_loss: 15.2478\n",
      "Epoch 15/20\n",
      "10/10 [==============================] - 0s 5ms/step - loss: 11.5335 - val_loss: 15.3400\n",
      "Epoch 16/20\n",
      "10/10 [==============================] - 0s 5ms/step - loss: 11.7313 - val_loss: 14.6105\n",
      "Epoch 17/20\n",
      "10/10 [==============================] - 0s 5ms/step - loss: 11.0015 - val_loss: 14.5302\n",
      "Epoch 18/20\n",
      "10/10 [==============================] - 0s 6ms/step - loss: 10.6282 - val_loss: 14.7108\n",
      "Epoch 19/20\n",
      "10/10 [==============================] - 0s 5ms/step - loss: 10.4515 - val_loss: 14.6254\n",
      "Epoch 20/20\n",
      "10/10 [==============================] - 0s 5ms/step - loss: 10.0404 - val_loss: 13.9398\n"
     ]
    }
   ],
   "source": [
    "train=model.fit(x_train,y_train, epochs=20, validation_data=(x_valid,y_valid))"
   ]
  },
  {
   "cell_type": "code",
   "execution_count": 14,
   "id": "10430d64-83c0-4840-81a9-cb171b83c6e5",
   "metadata": {},
   "outputs": [
    {
     "data": {
      "image/png": "[encoded data removed]",
      "text/plain": [
       "<Figure size 432x288 with 1 Axes>"
      ]
     },
     "metadata": {
      "needs_background": "light"
     },
     "output_type": "display_data"
    }
   ],
   "source": [
    "pd.DataFrame(train.history).plot()\n",
    "plt.grid(True)\n",
    "plt.show()"
   ]
  },
  {
   "cell_type": "code",
   "execution_count": 15,
   "id": "b363787e-d938-4454-b5f8-caf91fa17771",
   "metadata": {},
   "outputs": [
    {
     "name": "stdout",
     "output_type": "stream",
     "text": [
      "4/4 [==============================] - 0s 2ms/step - loss: 24.8355\n"
     ]
    },
    {
     "data": {
      "text/plain": [
       "24.835527420043945"
      ]
     },
     "execution_count": 15,
     "metadata": {},
     "output_type": "execute_result"
    }
   ],
   "source": [
    "#Evaluate\n",
    "model.evaluate(x_test, y_test)"
   ]
  },
  {
   "cell_type": "code",
   "execution_count": 16,
   "id": "f2e297c2-254e-4468-8efa-b86f8e622665",
   "metadata": {},
   "outputs": [
    {
     "name": "stdout",
     "output_type": "stream",
     "text": [
      "1/1 [==============================] - 0s 176ms/step\n"
     ]
    },
    {
     "data": {
      "text/plain": [
       "array([[ 7.8614826],\n",
       "       [16.635248 ],\n",
       "       [20.525663 ]], dtype=float32)"
      ]
     },
     "execution_count": 16,
     "metadata": {},
     "output_type": "execute_result"
    }
   ],
   "source": [
    "#predict\n",
    "model.predict(x_test[:3])"
   ]
  },
  {
   "cell_type": "code",
   "execution_count": 17,
   "id": "49e879b8-2f17-4ced-95be-b7d211b9b049",
   "metadata": {},
   "outputs": [
    {
     "data": {
      "text/plain": [
       "array([ 7.2, 18.8, 19. ])"
      ]
     },
     "execution_count": 17,
     "metadata": {},
     "output_type": "execute_result"
    }
   ],
   "source": [
    "y_test[:3]"
   ]
  },
  {
   "cell_type": "code",
   "execution_count": null,
   "id": "12719021-c6c6-4e9e-b3e7-94d108408d8d",
   "metadata": {},
   "outputs": [],
   "source": []
  }
 ],
 "metadata": {
  "kernelspec": {
   "display_name": "Python 3",
   "language": "python",
   "name": "python3"
  },
  "language_info": {
   "codemirror_mode": {
    "name": "ipython",
    "version": 3
   },
   "file_extension": ".py",
   "mimetype": "text/x-python",
   "name": "python",
   "nbconvert_exporter": "python",
   "pygments_lexer": "ipython3",
   "version": "3.8.8"
  }
 },
 "nbformat": 4,
 "nbformat_minor": 5
}
