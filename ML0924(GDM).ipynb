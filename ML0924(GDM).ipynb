{
 "cells": [
  {
   "cell_type": "code",
   "execution_count": 1,
   "id": "0908b7e4-5109-4838-89cf-e5780f27239c",
   "metadata": {},
   "outputs": [],
   "source": [
    "import numpy as np\n",
    "import matplotlib.pyplot as plt"
   ]
  },
  {
   "cell_type": "code",
   "execution_count": 3,
   "id": "e94cb9d3-d1a4-4701-b7cc-7010bc4baf16",
   "metadata": {},
   "outputs": [],
   "source": [
    "np.random.seed(1)\n",
    "\n",
    "m = 100\n",
    "\n",
    "x1 = 50 + 30 * np.random.rand(m, 1)\n",
    "y = 135 + 0.5 * x1 + 3 * np.random.randn(m,1)"
   ]
  },
  {
   "cell_type": "code",
   "execution_count": 4,
   "id": "38f6a9d8-a556-491f-b9e9-5016b8f5cfb9",
   "metadata": {},
   "outputs": [
    {
     "data": {
      "text/plain": [
       "array([[-0.23388437],\n",
       "       [ 0.79634961],\n",
       "       [-1.65000333],\n",
       "       [-0.62345239],\n",
       "       [-1.15190299]])"
      ]
     },
     "execution_count": 4,
     "metadata": {},
     "output_type": "execute_result"
    }
   ],
   "source": [
    "from sklearn.preprocessing import StandardScaler\n",
    "\n",
    "scal = StandardScaler()\n",
    "x1_scal = scal.fit_transform(x1)\n",
    "\n",
    "x1_scal[:5]"
   ]
  },
  {
   "cell_type": "code",
   "execution_count": 5,
   "id": "6d872b44-978b-4ddd-9fe8-1e29c0c65c0f",
   "metadata": {},
   "outputs": [
    {
     "data": {
      "text/plain": [
       "(array([64.57633783]), array([8.83204675]))"
      ]
     },
     "execution_count": 5,
     "metadata": {},
     "output_type": "execute_result"
    }
   ],
   "source": [
    "scal.mean_, scal.scale_"
   ]
  },
  {
   "cell_type": "code",
   "execution_count": 6,
   "id": "8d1be75d-9df2-49b3-b955-c386ae870b1e",
   "metadata": {},
   "outputs": [
    {
     "data": {
      "text/plain": [
       "SGDRegressor(eta0=0.1, penalty=None)"
      ]
     },
     "execution_count": 6,
     "metadata": {},
     "output_type": "execute_result"
    }
   ],
   "source": [
    "from sklearn.linear_model import SGDRegressor\n",
    "\n",
    "sgd_reg = SGDRegressor(max_iter=1000, tol=1e-3, penalty=None, eta0=.1)\n",
    "sgd_reg.fit(x1_scal,y.ravel())"
   ]
  },
  {
   "cell_type": "code",
   "execution_count": 7,
   "id": "d5374a3f-9d67-4a8d-a087-5d3278a381d3",
   "metadata": {},
   "outputs": [
    {
     "data": {
      "text/plain": [
       "(array([167.59478302]), array([4.29447724]))"
      ]
     },
     "execution_count": 7,
     "metadata": {},
     "output_type": "execute_result"
    }
   ],
   "source": [
    "sgd_reg.intercept_, sgd_reg.coef_"
   ]
  },
  {
   "cell_type": "code",
   "execution_count": 8,
   "id": "ba7673a0-8070-4fa8-ac98-99548da40d3d",
   "metadata": {},
   "outputs": [],
   "source": [
    "x1_new = [[50], [80]]\n",
    "x1_new_scal = scal.transform(x1_new)"
   ]
  },
  {
   "cell_type": "code",
   "execution_count": 9,
   "id": "2d670006-c91d-4a55-a68b-839e3ba0ef70",
   "metadata": {},
   "outputs": [
    {
     "data": {
      "text/plain": [
       "array([160.50721286, 175.09435451])"
      ]
     },
     "execution_count": 9,
     "metadata": {},
     "output_type": "execute_result"
    }
   ],
   "source": [
    "sgd_reg.predict(x1_new_scal)"
   ]
  },
  {
   "cell_type": "code",
   "execution_count": null,
   "id": "34c781d8-e460-4e81-a609-ed4e63c549ce",
   "metadata": {},
   "outputs": [],
   "source": []
  },
  {
   "cell_type": "code",
   "execution_count": 10,
   "id": "9684272a-ba00-45b6-b55f-8672f9590791",
   "metadata": {},
   "outputs": [],
   "source": [
    "#批次梯度下降法\n",
    "X = np.c_[np.ones((m,1)), x1_scal]"
   ]
  },
  {
   "cell_type": "code",
   "execution_count": 12,
   "id": "c23593e2-bd74-4728-8352-64eb25e9d8b7",
   "metadata": {},
   "outputs": [],
   "source": [
    "n_iterations = 1000\n",
    "eta = 0.1\n",
    "\n",
    "theta = np.random.randn(2,1)\n",
    "\n",
    "for t in range(n_iterations):\n",
    "    gd = 2/m * X.T.dot(X.dot(theta) - y)\n",
    "    theta = theta - eta* gd"
   ]
  },
  {
   "cell_type": "code",
   "execution_count": 13,
   "id": "13b3d069-e843-4123-a88e-a44015f609c7",
   "metadata": {},
   "outputs": [
    {
     "data": {
      "text/plain": [
       "array([[167.53977684],\n",
       "       [  4.13774774]])"
      ]
     },
     "execution_count": 13,
     "metadata": {},
     "output_type": "execute_result"
    }
   ],
   "source": [
    "theta"
   ]
  },
  {
   "cell_type": "code",
   "execution_count": null,
   "id": "5a15c9a3-c640-4ae1-9b92-03b9d6a5fafe",
   "metadata": {},
   "outputs": [],
   "source": []
  },
  {
   "cell_type": "code",
   "execution_count": 14,
   "id": "1b0696d7-bd0e-4933-912a-eaada3162cf9",
   "metadata": {},
   "outputs": [],
   "source": [
    "#隨機梯度下降法\n",
    "def learning_schedule(t, t0, t1):\n",
    "    return t0 / (t+t1)"
   ]
  },
  {
   "cell_type": "code",
   "execution_count": 18,
   "id": "ecd21552-9c43-424d-9cf3-a28b2a519314",
   "metadata": {},
   "outputs": [],
   "source": [
    "n_epochs = 50\n",
    "\n",
    "theta = np.random.randint(m)\n",
    "\n",
    "for epoch in range(n_epochs):\n",
    "    for i in range(m):\n",
    "        \n",
    "        ind = np.random.randint(m)\n",
    "        xi = X[ind:ind+1].T\n",
    "        yi = y[ind:ind+1]\n",
    "        \n",
    "        eta = learning_schedule(epoch * m + i, 5, 50)\n",
    "        \n",
    "        gd = 2* xi.dot(xi.T.dot(theta) - yi)\n",
    "        theta = theta - eta * gd"
   ]
  },
  {
   "cell_type": "code",
   "execution_count": 19,
   "id": "f2f5b012-80a0-4305-96c9-b448a47739e8",
   "metadata": {},
   "outputs": [
    {
     "data": {
      "text/plain": [
       "array([[167.5660274 , 167.5660274 ],\n",
       "       [  4.29021666,   4.29021666]])"
      ]
     },
     "execution_count": 19,
     "metadata": {},
     "output_type": "execute_result"
    }
   ],
   "source": [
    "theta"
   ]
  },
  {
   "cell_type": "markdown",
   "id": "821dc709-5bfd-49b0-b62d-8d22a7ea7424",
   "metadata": {},
   "source": []
  },
  {
   "cell_type": "code",
   "execution_count": 20,
   "id": "bd247b0d-1c45-416f-a924-e091326c75cb",
   "metadata": {},
   "outputs": [],
   "source": [
    "#小批次梯度下降法"
   ]
  },
  {
   "cell_type": "code",
   "execution_count": 23,
   "id": "2f302401-a8bf-4c9b-8d80-bf6b5fd79cb2",
   "metadata": {},
   "outputs": [],
   "source": [
    "n_epochs = 50\n",
    "minibatch_size = 20\n",
    "\n",
    "theta = np.random.randn(2,1)\n",
    "\n",
    "t=0\n",
    "for epoch in range(n_epochs):\n",
    "    \n",
    "    ind = np.random.permutation(m)\n",
    "    X_shuffled = X[ind]\n",
    "    y_shuffled = y[ind]\n",
    "    \n",
    "    for i in range(0, m, minibatch_size):\n",
    "        \n",
    "        Xi = X_shuffled[i:i+minibatch_size]\n",
    "        yi = y_shuffled[i:i+minibatch_size]\n",
    "        \n",
    "        t+=1\n",
    "        eta = learning_schedule(t, 5, 50)\n",
    "        \n",
    "        gd = 2 / minibatch_size * Xi.T.dot(Xi.dot(theta) - yi)\n",
    "        theta = theta - eta * gd"
   ]
  },
  {
   "cell_type": "code",
   "execution_count": 24,
   "id": "168c140a-252b-4ca7-ac58-727407d1c4f0",
   "metadata": {},
   "outputs": [
    {
     "data": {
      "text/plain": [
       "array([[167.54010656],\n",
       "       [  4.13680857]])"
      ]
     },
     "execution_count": 24,
     "metadata": {},
     "output_type": "execute_result"
    }
   ],
   "source": [
    "theta"
   ]
  },
  {
   "cell_type": "code",
   "execution_count": null,
   "id": "c7e91092-6257-4a1c-8120-588fe597e2ac",
   "metadata": {},
   "outputs": [],
   "source": []
  }
 ],
 "metadata": {
  "kernelspec": {
   "display_name": "Python 3",
   "language": "python",
   "name": "python3"
  },
  "language_info": {
   "codemirror_mode": {
    "name": "ipython",
    "version": 3
   },
   "file_extension": ".py",
   "mimetype": "text/x-python",
   "name": "python",
   "nbconvert_exporter": "python",
   "pygments_lexer": "ipython3",
   "version": "3.8.8"
  }
 },
 "nbformat": 4,
 "nbformat_minor": 5
}
