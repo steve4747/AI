{
 "cells": [
  {
   "cell_type": "code",
   "execution_count": 2,
   "id": "ffd79894-bb4b-4064-b7ac-edb74603c1d6",
   "metadata": {},
   "outputs": [],
   "source": [
    "import numpy as np\n",
    "import matplotlib.pyplot as plt"
   ]
  },
  {
   "cell_type": "code",
   "execution_count": 3,
   "id": "6c40dcf4-0425-415d-85ae-61fb84067b58",
   "metadata": {},
   "outputs": [],
   "source": [
    "from sklearn import datasets\n",
    "iris = datasets.load_iris()"
   ]
  },
  {
   "cell_type": "code",
   "execution_count": 4,
   "id": "56d9a209-42c0-4c06-ac9a-486b134398d2",
   "metadata": {},
   "outputs": [
    {
     "data": {
      "text/plain": [
       "dict_keys(['data', 'target', 'frame', 'target_names', 'DESCR', 'feature_names', 'filename'])"
      ]
     },
     "execution_count": 4,
     "metadata": {},
     "output_type": "execute_result"
    }
   ],
   "source": [
    "iris.keys()"
   ]
  },
  {
   "cell_type": "code",
   "execution_count": 5,
   "id": "8fc6c238-afd5-4949-bbb4-73c13dbd4b90",
   "metadata": {},
   "outputs": [
    {
     "data": {
      "text/plain": [
       "array([0, 0, 0, 0, 0, 0, 0, 0, 0, 0, 0, 0, 0, 0, 0, 0, 0, 0, 0, 0, 0, 0,\n",
       "       0, 0, 0, 0, 0, 0, 0, 0, 0, 0, 0, 0, 0, 0, 0, 0, 0, 0, 0, 0, 0, 0,\n",
       "       0, 0, 0, 0, 0, 0, 1, 1, 1, 1, 1, 1, 1, 1, 1, 1, 1, 1, 1, 1, 1, 1,\n",
       "       1, 1, 1, 1, 1, 1, 1, 1, 1, 1, 1, 1, 1, 1, 1, 1, 1, 1, 1, 1, 1, 1,\n",
       "       1, 1, 1, 1, 1, 1, 1, 1, 1, 1, 1, 1, 2, 2, 2, 2, 2, 2, 2, 2, 2, 2,\n",
       "       2, 2, 2, 2, 2, 2, 2, 2, 2, 2, 2, 2, 2, 2, 2, 2, 2, 2, 2, 2, 2, 2,\n",
       "       2, 2, 2, 2, 2, 2, 2, 2, 2, 2, 2, 2, 2, 2, 2, 2, 2, 2])"
      ]
     },
     "execution_count": 5,
     "metadata": {},
     "output_type": "execute_result"
    }
   ],
   "source": [
    "iris['target']"
   ]
  },
  {
   "cell_type": "code",
   "execution_count": 6,
   "id": "f1c9a7b3-c841-4d6b-89fe-5e720d280aaa",
   "metadata": {},
   "outputs": [
    {
     "data": {
      "text/plain": [
       "array(['setosa', 'versicolor', 'virginica'], dtype='<U10')"
      ]
     },
     "execution_count": 6,
     "metadata": {},
     "output_type": "execute_result"
    }
   ],
   "source": [
    "iris['target_names']"
   ]
  },
  {
   "cell_type": "code",
   "execution_count": 7,
   "id": "1f548529-e621-4520-bad9-63e971a23281",
   "metadata": {},
   "outputs": [
    {
     "data": {
      "text/plain": [
       "array([[5.1, 3.5, 1.4, 0.2],\n",
       "       [4.9, 3. , 1.4, 0.2],\n",
       "       [4.7, 3.2, 1.3, 0.2],\n",
       "       [4.6, 3.1, 1.5, 0.2],\n",
       "       [5. , 3.6, 1.4, 0.2]])"
      ]
     },
     "execution_count": 7,
     "metadata": {},
     "output_type": "execute_result"
    }
   ],
   "source": [
    "#Ex1 使用1個feature\n",
    "iris['data'][:5]"
   ]
  },
  {
   "cell_type": "code",
   "execution_count": 8,
   "id": "e01df94d-94e9-4c70-a72d-e461bbad0537",
   "metadata": {},
   "outputs": [
    {
     "data": {
      "text/plain": [
       "['sepal length (cm)',\n",
       " 'sepal width (cm)',\n",
       " 'petal length (cm)',\n",
       " 'petal width (cm)']"
      ]
     },
     "execution_count": 8,
     "metadata": {},
     "output_type": "execute_result"
    }
   ],
   "source": [
    "iris['feature_names']"
   ]
  },
  {
   "cell_type": "code",
   "execution_count": 9,
   "id": "c9e620b5-b925-43af-a18b-756d4bc7f6e3",
   "metadata": {},
   "outputs": [],
   "source": [
    "x = iris['data'][:,0].reshape(-1,1)\n",
    "y = (iris['target']==0).astype(int)"
   ]
  },
  {
   "cell_type": "code",
   "execution_count": 10,
   "id": "eeeb2240-847b-4451-a949-67d94125a798",
   "metadata": {},
   "outputs": [
    {
     "data": {
      "text/plain": [
       "array([[5.1],\n",
       "       [4.9],\n",
       "       [4.7]])"
      ]
     },
     "execution_count": 10,
     "metadata": {},
     "output_type": "execute_result"
    }
   ],
   "source": [
    "x[:3]"
   ]
  },
  {
   "cell_type": "code",
   "execution_count": 11,
   "id": "cb324e88-dcbf-414f-9a38-459f675077c2",
   "metadata": {},
   "outputs": [
    {
     "data": {
      "text/plain": [
       "array([1, 1, 1, 1, 1, 1, 1, 1, 1, 1, 1, 1, 1, 1, 1, 1, 1, 1, 1, 1, 1, 1,\n",
       "       1, 1, 1, 1, 1, 1, 1, 1, 1, 1, 1, 1, 1, 1, 1, 1, 1, 1, 1, 1, 1, 1,\n",
       "       1, 1, 1, 1, 1, 1, 0, 0, 0, 0, 0, 0, 0, 0, 0, 0, 0, 0, 0, 0, 0, 0,\n",
       "       0, 0, 0, 0, 0, 0, 0, 0, 0, 0, 0, 0, 0, 0, 0, 0, 0, 0, 0, 0, 0, 0,\n",
       "       0, 0, 0, 0, 0, 0, 0, 0, 0, 0, 0, 0, 0, 0, 0, 0, 0, 0, 0, 0, 0, 0,\n",
       "       0, 0, 0, 0, 0, 0, 0, 0, 0, 0, 0, 0, 0, 0, 0, 0, 0, 0, 0, 0, 0, 0,\n",
       "       0, 0, 0, 0, 0, 0, 0, 0, 0, 0, 0, 0, 0, 0, 0, 0, 0, 0])"
      ]
     },
     "execution_count": 11,
     "metadata": {},
     "output_type": "execute_result"
    }
   ],
   "source": [
    "y"
   ]
  },
  {
   "cell_type": "code",
   "execution_count": 12,
   "id": "3e6443e3-9632-4bd0-85c4-12ed42fb51f0",
   "metadata": {},
   "outputs": [
    {
     "data": {
      "text/plain": [
       "(array([18.5455613]), array([[-3.45772499]]))"
      ]
     },
     "execution_count": 12,
     "metadata": {},
     "output_type": "execute_result"
    }
   ],
   "source": [
    "from sklearn.linear_model import LogisticRegression\n",
    "\n",
    "log_reg = LogisticRegression(solver=\"lbfgs\", C=1, random_state=1)\n",
    "log_reg.fit(x,y)\n",
    "log_reg.intercept_, log_reg.coef_"
   ]
  },
  {
   "cell_type": "code",
   "execution_count": 13,
   "id": "527338ea-9952-4380-aa28-869199135fb6",
   "metadata": {},
   "outputs": [
    {
     "data": {
      "text/plain": [
       "0.8933333333333333"
      ]
     },
     "execution_count": 13,
     "metadata": {},
     "output_type": "execute_result"
    }
   ],
   "source": [
    "log_reg.score(x,y)"
   ]
  },
  {
   "cell_type": "code",
   "execution_count": 14,
   "id": "691387f8-bf51-451e-a174-311640310a94",
   "metadata": {},
   "outputs": [
    {
     "data": {
      "text/plain": [
       "array([1, 0])"
      ]
     },
     "execution_count": 14,
     "metadata": {},
     "output_type": "execute_result"
    }
   ],
   "source": [
    "x_new = [[5],[6.5]]\n",
    "\n",
    "log_reg.predict(x_new)"
   ]
  },
  {
   "cell_type": "code",
   "execution_count": 15,
   "id": "8f7a1993-fce4-465d-b705-af2b7c14d043",
   "metadata": {},
   "outputs": [
    {
     "data": {
      "text/plain": [
       "array([[0.22150173, 0.77849827],\n",
       "       [0.98072817, 0.01927183]])"
      ]
     },
     "execution_count": 15,
     "metadata": {},
     "output_type": "execute_result"
    }
   ],
   "source": [
    "log_reg.predict_proba(x_new)"
   ]
  },
  {
   "cell_type": "code",
   "execution_count": 16,
   "id": "983a03ca-fe33-4f8c-b1bb-237cbcc1f6de",
   "metadata": {},
   "outputs": [
    {
     "data": {
      "text/plain": [
       "(array([321.68580859]), array([[-61.90239437]]))"
      ]
     },
     "execution_count": 16,
     "metadata": {},
     "output_type": "execute_result"
    }
   ],
   "source": [
    "from sklearn.linear_model import SGDClassifier\n",
    "\n",
    "sgd_clf = SGDClassifier(loss='log', penalty='l2', alpha=0.0001, random_state=1)\n",
    "\n",
    "sgd_clf.fit(x,y)\n",
    "sgd_clf.intercept_, sgd_clf.coef_"
   ]
  },
  {
   "cell_type": "code",
   "execution_count": 17,
   "id": "100a818f-e604-4a17-ab73-d8b38a0ca0df",
   "metadata": {},
   "outputs": [
    {
     "data": {
      "text/plain": [
       "0.8733333333333333"
      ]
     },
     "execution_count": 17,
     "metadata": {},
     "output_type": "execute_result"
    }
   ],
   "source": [
    "sgd_clf.score(x,y)"
   ]
  },
  {
   "cell_type": "code",
   "execution_count": 18,
   "id": "697b36b9-7c87-48b4-9f68-71cc0071bda6",
   "metadata": {},
   "outputs": [
    {
     "data": {
      "text/plain": [
       "array([1, 0])"
      ]
     },
     "execution_count": 18,
     "metadata": {},
     "output_type": "execute_result"
    }
   ],
   "source": [
    "x_new = [[5],[6.5]]\n",
    "sgd_clf.predict(x_new)"
   ]
  },
  {
   "cell_type": "code",
   "execution_count": 19,
   "id": "718ae297-6dbe-4f13-9ad0-a6f57844ec23",
   "metadata": {},
   "outputs": [
    {
     "data": {
      "text/plain": [
       "array([[5.16377895e-06, 9.99994836e-01],\n",
       "       [1.00000000e+00, 9.14592585e-36]])"
      ]
     },
     "execution_count": 19,
     "metadata": {},
     "output_type": "execute_result"
    }
   ],
   "source": [
    "sgd_clf.predict_proba(x_new)"
   ]
  },
  {
   "cell_type": "code",
   "execution_count": 20,
   "id": "f346eb4c-a333-4e73-8cd0-cf29545e2662",
   "metadata": {},
   "outputs": [
    {
     "data": {
      "text/plain": [
       "array([[5.36351542]])"
      ]
     },
     "execution_count": 20,
     "metadata": {},
     "output_type": "execute_result"
    }
   ],
   "source": [
    "# h=0, i.e. 0=b+w1x1 => x1=-b/w1\n",
    "\n",
    "decision_boundary = -log_reg.intercept_/log_reg.coef_\n",
    "decision_boundary"
   ]
  },
  {
   "cell_type": "code",
   "execution_count": 21,
   "id": "cdd2c24f-74d9-413a-967e-94abbe2f51ed",
   "metadata": {},
   "outputs": [
    {
     "data": {
      "image/png": "[encoded data removed]",
      "text/plain": [
       "<Figure size 576x216 with 1 Axes>"
      ]
     },
     "metadata": {
      "needs_background": "light"
     },
     "output_type": "display_data"
    }
   ],
   "source": [
    "xs = np.linspace(3, 9, 100).reshape(-1,1)\n",
    "y_proba = log_reg.predict_proba(xs)\n",
    "\n",
    "plt.figure(figsize=(8,3))\n",
    "plt.plot(x[y==1], y[y==1], \"b.\", label=\"Setosa\")\n",
    "plt.plot(x[y==0], y[y==0], \"rx\", label=\"Not Setosa\")\n",
    "\n",
    "plt.plot(xs, y_proba[:,0],\"r:\")\n",
    "plt.plot(xs, y_proba[:,1],\"b:\")\n",
    "\n",
    "plt.plot([decision_boundary[0], decision_boundary[0]], [0,1],\"k--\", label=\"Boundary\")\n",
    "\n",
    "plt.xlabel(\"$x_1$\", fontsize=14)\n",
    "plt.ylabel(\"$\\hat p$\", fontsize=14, rotation=0)\n",
    "plt.legend(loc=\"center right\", fontsize=14)\n",
    "\n",
    "plt.show()"
   ]
  },
  {
   "cell_type": "code",
   "execution_count": 22,
   "id": "2b8ecb94-9e7a-4cfb-b107-77a438114820",
   "metadata": {},
   "outputs": [],
   "source": [
    "#Ex2 使用2個features\n",
    "\n",
    "x = iris['data'][:, :2]\n",
    "y = (iris['target']==0).astype(int)"
   ]
  },
  {
   "cell_type": "code",
   "execution_count": 23,
   "id": "88d94833-97ab-4307-9be1-22c8ac1c5c5d",
   "metadata": {},
   "outputs": [
    {
     "data": {
      "text/plain": [
       "array([[5.1, 3.5],\n",
       "       [4.9, 3. ],\n",
       "       [4.7, 3.2]])"
      ]
     },
     "execution_count": 23,
     "metadata": {},
     "output_type": "execute_result"
    }
   ],
   "source": [
    "x[:3]"
   ]
  },
  {
   "cell_type": "code",
   "execution_count": 24,
   "id": "7d2de1d0-d2ae-4646-b782-f74649368cfd",
   "metadata": {},
   "outputs": [
    {
     "data": {
      "text/plain": [
       "array([1, 1, 1, 1, 1, 1, 1, 1, 1, 1, 1, 1, 1, 1, 1, 1, 1, 1, 1, 1, 1, 1,\n",
       "       1, 1, 1, 1, 1, 1, 1, 1, 1, 1, 1, 1, 1, 1, 1, 1, 1, 1, 1, 1, 1, 1,\n",
       "       1, 1, 1, 1, 1, 1, 0, 0, 0, 0, 0, 0, 0, 0, 0, 0, 0, 0, 0, 0, 0, 0,\n",
       "       0, 0, 0, 0, 0, 0, 0, 0, 0, 0, 0, 0, 0, 0, 0, 0, 0, 0, 0, 0, 0, 0,\n",
       "       0, 0, 0, 0, 0, 0, 0, 0, 0, 0, 0, 0, 0, 0, 0, 0, 0, 0, 0, 0, 0, 0,\n",
       "       0, 0, 0, 0, 0, 0, 0, 0, 0, 0, 0, 0, 0, 0, 0, 0, 0, 0, 0, 0, 0, 0,\n",
       "       0, 0, 0, 0, 0, 0, 0, 0, 0, 0, 0, 0, 0, 0, 0, 0, 0, 0])"
      ]
     },
     "execution_count": 24,
     "metadata": {},
     "output_type": "execute_result"
    }
   ],
   "source": [
    "y"
   ]
  },
  {
   "cell_type": "code",
   "execution_count": 25,
   "id": "2ff5979d-e77b-4e26-b984-5fd408448a28",
   "metadata": {},
   "outputs": [
    {
     "data": {
      "text/plain": [
       "(array([8.32330389]), array([[-3.38829757,  3.1645277 ]]))"
      ]
     },
     "execution_count": 25,
     "metadata": {},
     "output_type": "execute_result"
    }
   ],
   "source": [
    "from sklearn.linear_model import LogisticRegression\n",
    "\n",
    "log_reg = LogisticRegression(solver='lbfgs', C=1, random_state=1)\n",
    "log_reg.fit(x,y)\n",
    "log_reg.intercept_, log_reg.coef_"
   ]
  },
  {
   "cell_type": "code",
   "execution_count": 26,
   "id": "56a9ce9a-a9d8-427f-9c94-07b16d03d223",
   "metadata": {},
   "outputs": [
    {
     "data": {
      "text/plain": [
       "1.0"
      ]
     },
     "execution_count": 26,
     "metadata": {},
     "output_type": "execute_result"
    }
   ],
   "source": [
    "log_reg.score(x,y)"
   ]
  },
  {
   "cell_type": "code",
   "execution_count": 27,
   "id": "4ccb537a-c6b3-4813-9066-49d31f875fbf",
   "metadata": {},
   "outputs": [
    {
     "data": {
      "text/plain": [
       "array([0, 1])"
      ]
     },
     "execution_count": 27,
     "metadata": {},
     "output_type": "execute_result"
    }
   ],
   "source": [
    "x_new = [[5.5,2.8],[4.5,3.25]]\n",
    "log_reg.predict(x_new)"
   ]
  },
  {
   "cell_type": "code",
   "execution_count": 28,
   "id": "71b3184b-d148-48f9-bda2-a4494e343277",
   "metadata": {},
   "outputs": [
    {
     "data": {
      "text/plain": [
       "array([[0.81025304, 0.18974696],\n",
       "       [0.03354717, 0.96645283]])"
      ]
     },
     "execution_count": 28,
     "metadata": {},
     "output_type": "execute_result"
    }
   ],
   "source": [
    "log_reg.predict_proba(x_new)"
   ]
  },
  {
   "cell_type": "code",
   "execution_count": 29,
   "id": "568ca9bb-89e7-47d5-a6c4-0d19a871fe5a",
   "metadata": {},
   "outputs": [
    {
     "data": {
      "text/plain": [
       "array([[4.25      , 1.92033737],\n",
       "       [5.175     , 2.9107459 ],\n",
       "       [6.1       , 3.90115444],\n",
       "       [7.025     , 4.89156298],\n",
       "       [7.95      , 5.88197152]])"
      ]
     },
     "execution_count": 29,
     "metadata": {},
     "output_type": "execute_result"
    }
   ],
   "source": [
    "#decision boundary\n",
    "# b+w1x1=0 => (x1,x2) where x2=-(b+w1x1)/w2\n",
    "\n",
    "x1_boundary =np.linspace(x.min(axis=0)[0]-0.05, x.max(axis=0)[0]+0.05,5)\n",
    "x2_boundary = - (log_reg.intercept_[0] + log_reg.coef_[0][0] * x1_boundary)/log_reg.coef_[0][1]\n",
    "boundary = np.c_[x1_boundary, x2_boundary]\n",
    "boundary"
   ]
  },
  {
   "cell_type": "code",
   "execution_count": 30,
   "id": "307a4d7d-d6e9-4b75-b2fc-d2428d7a4a1f",
   "metadata": {},
   "outputs": [
    {
     "data": {
      "image/png": "[encoded data removed]",
      "text/plain": [
       "<Figure size 576x216 with 1 Axes>"
      ]
     },
     "metadata": {
      "needs_background": "light"
     },
     "output_type": "display_data"
    }
   ],
   "source": [
    "x1s = np.linspace(4.2, 8 , 100).reshape(-1,1)\n",
    "x2s = np.linspace(1.5, 6 , 100).reshape(-1,1)\n",
    "\n",
    "x1, x2 = np.meshgrid(x1s, x2s)\n",
    "x_new = np.c_[x1.ravel(), x2.ravel()]\n",
    "y_pred = log_reg.predict(x_new)\n",
    "\n",
    "plt.figure(figsize=(8,3))\n",
    "plt.plot(x[y==1,0], x[y==1,1], \"b.\", label='Setosa')\n",
    "plt.plot(x[y==0,0], x[y==0,1], \"rx\", label='Not Setosa')\n",
    "\n",
    "zz = y_pred.reshape(x1.shape)\n",
    "plt.contourf(x1, x2, zz, alpha=0.2)\n",
    "plt.plot(boundary[:,0], boundary[:, 1], \"k--\", label='Boundary')\n",
    "\n",
    "plt.xlabel(\"$x_1$\", fontsize=14)\n",
    "plt.ylabel(\"$x_2$\", fontsize=14)\n",
    "plt.legend(loc='upper left', fontsize=12)\n",
    "\n",
    "plt.show()"
   ]
  },
  {
   "cell_type": "code",
   "execution_count": null,
   "id": "7be464ca-bb50-4fb8-9309-d5604b4f1dee",
   "metadata": {},
   "outputs": [],
   "source": []
  }
 ],
 "metadata": {
  "kernelspec": {
   "display_name": "Python 3",
   "language": "python",
   "name": "python3"
  },
  "language_info": {
   "codemirror_mode": {
    "name": "ipython",
    "version": 3
   },
   "file_extension": ".py",
   "mimetype": "text/x-python",
   "name": "python",
   "nbconvert_exporter": "python",
   "pygments_lexer": "ipython3",
   "version": "3.8.8"
  }
 },
 "nbformat": 4,
 "nbformat_minor": 5
}
