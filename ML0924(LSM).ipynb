{
 "cells": [
  {
   "cell_type": "code",
   "execution_count": 2,
   "id": "4b20ca17-cc69-4ee3-a353-76afe7114e5b",
   "metadata": {},
   "outputs": [],
   "source": [
    "import numpy as np\n",
    "import matplotlib.pyplot as plt"
   ]
  },
  {
   "cell_type": "code",
   "execution_count": 4,
   "id": "f6098529-27eb-4f48-ac44-06feb22eac9c",
   "metadata": {},
   "outputs": [],
   "source": [
    "np.random.seed(1)\n",
    "\n",
    "n = 100\n",
    "\n",
    "x1 = 50 + 30 * np.random.rand(n, 1)\n",
    "y = 135 + 0.5 * x1 + 3 * np.random.randn(n,1)"
   ]
  },
  {
   "cell_type": "code",
   "execution_count": 5,
   "id": "d12e0036-9659-4aa3-b6fc-5b3bdddf7e72",
   "metadata": {},
   "outputs": [
    {
     "data": {
      "text/plain": [
       "array([[62.51066014],\n",
       "       [71.6097348 ],\n",
       "       [50.00343124],\n",
       "       [59.06997718],\n",
       "       [54.40267672]])"
      ]
     },
     "execution_count": 5,
     "metadata": {},
     "output_type": "execute_result"
    }
   ],
   "source": [
    "x1[:5]"
   ]
  },
  {
   "cell_type": "code",
   "execution_count": 6,
   "id": "0f81138d-f021-4dcb-a2c2-3deeb38084b6",
   "metadata": {},
   "outputs": [
    {
     "data": {
      "text/plain": [
       "array([[167.20223491],\n",
       "       [164.73826375],\n",
       "       [159.08310358],\n",
       "       [167.01891252],\n",
       "       [162.89162257]])"
      ]
     },
     "execution_count": 6,
     "metadata": {},
     "output_type": "execute_result"
    }
   ],
   "source": [
    "y[:5]"
   ]
  },
  {
   "cell_type": "code",
   "execution_count": 7,
   "id": "ee799e15-9478-4ea8-a46b-3f11777fa0c1",
   "metadata": {},
   "outputs": [
    {
     "data": {
      "image/png": "[encoded data removed]",
      "text/plain": [
       "<Figure size 360x288 with 1 Axes>"
      ]
     },
     "metadata": {
      "needs_background": "light"
     },
     "output_type": "display_data"
    }
   ],
   "source": [
    "plt.figure(figsize=(5,4))\n",
    "\n",
    "plt.plot(x1, y, \"b.\")\n",
    "\n",
    "plt.xlabel(\"$x_1$\", fontsize=18)\n",
    "plt.ylabel(\"$y$\", rotation=0, fontsize=18)\n",
    "\n",
    "plt.savefig(\"plot_ex1.pdf\", dpi=300, bbox_inches='tight')\n",
    "\n",
    "plt.show()\n"
   ]
  },
  {
   "cell_type": "code",
   "execution_count": 8,
   "id": "bbcd2201-366d-43d4-ad3c-47ab54249816",
   "metadata": {},
   "outputs": [
    {
     "data": {
      "text/plain": [
       "LinearRegression()"
      ]
     },
     "execution_count": 8,
     "metadata": {},
     "output_type": "execute_result"
    }
   ],
   "source": [
    "from sklearn.linear_model import LinearRegression\n",
    "lin_reg = LinearRegression()\n",
    "lin_reg.fit(x1, y)"
   ]
  },
  {
   "cell_type": "code",
   "execution_count": 11,
   "id": "4bd465f6-ef14-4863-a97f-5ad1b5586a8e",
   "metadata": {},
   "outputs": [
    {
     "data": {
      "text/plain": [
       "(array([137.28624632]), array([[0.46849251]]))"
      ]
     },
     "execution_count": 11,
     "metadata": {},
     "output_type": "execute_result"
    }
   ],
   "source": [
    "lin_reg.intercept_, lin_reg.coef_"
   ]
  },
  {
   "cell_type": "code",
   "execution_count": 12,
   "id": "d18cc49c-17ec-42be-83ab-05ce13c00ea1",
   "metadata": {},
   "outputs": [
    {
     "data": {
      "text/plain": [
       "array([[160.71087176],\n",
       "       [174.76564703]])"
      ]
     },
     "execution_count": 12,
     "metadata": {},
     "output_type": "execute_result"
    }
   ],
   "source": [
    "x1_new = np.array([[50],[80]])\n",
    "\n",
    "lin_reg.predict(x1_new)"
   ]
  },
  {
   "cell_type": "code",
   "execution_count": 16,
   "id": "ebd9eceb-fed6-4e24-9b3a-3f191982e8fd",
   "metadata": {},
   "outputs": [
    {
     "data": {
      "image/png": "[encoded data removed]",
      "text/plain": [
       "<Figure size 360x288 with 1 Axes>"
      ]
     },
     "metadata": {
      "needs_background": "light"
     },
     "output_type": "display_data"
    }
   ],
   "source": [
    "plt.figure(figsize=(5,4))\n",
    "\n",
    "xls = np.linspace(x1.min(),x1.max(),10).reshape(-1,1)\n",
    "y_pred = lin_reg.predict(xls)\n",
    "\n",
    "plt.plot(x1, y, \"b.\")\n",
    "plt.plot(xls, y_pred, \"r-\", linewidth=2, label=\"$\\hat y$\")\n",
    "\n",
    "plt.xlabel(\"$x_1$\", fontsize=18)\n",
    "plt.ylabel(\"$y$\", rotation=0, fontsize=18)\n",
    "plt.legend(loc=\"upper left\", fontsize=14)\n",
    "\n",
    "plt.show()"
   ]
  },
  {
   "cell_type": "code",
   "execution_count": null,
   "id": "bc9ef0e7-d86a-4424-bdd7-b58be5bc686d",
   "metadata": {},
   "outputs": [],
   "source": []
  }
 ],
 "metadata": {
  "kernelspec": {
   "display_name": "Python 3",
   "language": "python",
   "name": "python3"
  },
  "language_info": {
   "codemirror_mode": {
    "name": "ipython",
    "version": 3
   },
   "file_extension": ".py",
   "mimetype": "text/x-python",
   "name": "python",
   "nbconvert_exporter": "python",
   "pygments_lexer": "ipython3",
   "version": "3.8.8"
  }
 },
 "nbformat": 4,
 "nbformat_minor": 5
}
