{
 "cells": [
  {
   "cell_type": "code",
   "execution_count": 2,
   "id": "e19107b1-2f4d-42d3-bba0-8b9de65fb178",
   "metadata": {},
   "outputs": [],
   "source": [
    "import numpy as np\n",
    "import matplotlib.pyplot as plt"
   ]
  },
  {
   "cell_type": "code",
   "execution_count": 3,
   "id": "bb4d5a25-92b9-4dc6-bfed-d56811d4872c",
   "metadata": {},
   "outputs": [],
   "source": [
    "from sklearn import datasets\n",
    "iris = datasets.load_iris()"
   ]
  },
  {
   "cell_type": "code",
   "execution_count": 4,
   "id": "8a457777-3213-463e-95d9-2ec0b6f751dc",
   "metadata": {},
   "outputs": [],
   "source": [
    "x = iris[\"data\"][:, :2]\n",
    "y = iris[\"target\"]"
   ]
  },
  {
   "cell_type": "code",
   "execution_count": 7,
   "id": "60339f40-0e7c-48c9-a311-7ddc91226882",
   "metadata": {},
   "outputs": [
    {
     "data": {
      "text/plain": [
       "(array([ 13.81862143,  -0.51550497, -13.30311646]),\n",
       " array([[-5.10014342,  4.5761126 ],\n",
       "        [ 1.65077685, -2.55843875],\n",
       "        [ 3.44936658, -2.01767385]]))"
      ]
     },
     "execution_count": 7,
     "metadata": {},
     "output_type": "execute_result"
    }
   ],
   "source": [
    "from sklearn.linear_model import LogisticRegression\n",
    "\n",
    "softmax_reg = LogisticRegression(multi_class='multinomial', C=10, random_state=1)\n",
    "\n",
    "softmax_reg.fit(x,y)\n",
    "softmax_reg.intercept_, softmax_reg.coef_"
   ]
  },
  {
   "cell_type": "code",
   "execution_count": 8,
   "id": "ad0c2bed-83b0-44a8-a6b2-8279875fe4d7",
   "metadata": {},
   "outputs": [
    {
     "data": {
      "text/plain": [
       "0.8333333333333334"
      ]
     },
     "execution_count": 8,
     "metadata": {},
     "output_type": "execute_result"
    }
   ],
   "source": [
    "softmax_reg.score(x,y)"
   ]
  },
  {
   "cell_type": "code",
   "execution_count": 9,
   "id": "9c3afa8c-5355-44f8-a373-6dd0a07c5d64",
   "metadata": {},
   "outputs": [],
   "source": [
    "x_new = [[6.7,4.25], [4.9,3.3], [5.2,2.5]]"
   ]
  },
  {
   "cell_type": "code",
   "execution_count": 10,
   "id": "3898a629-9133-490d-987f-ff182678ab9a",
   "metadata": {},
   "outputs": [
    {
     "data": {
      "text/plain": [
       "array([2, 0, 1])"
      ]
     },
     "execution_count": 10,
     "metadata": {},
     "output_type": "execute_result"
    }
   ],
   "source": [
    "softmax_reg.predict(x_new)"
   ]
  },
  {
   "cell_type": "code",
   "execution_count": 11,
   "id": "28721c47-9326-44fb-afcf-efe8eed05bf7",
   "metadata": {},
   "outputs": [
    {
     "data": {
      "text/plain": [
       "array([[8.89184388e-02, 1.58050678e-01, 7.53030883e-01],\n",
       "       [9.90919922e-01, 8.16614717e-03, 9.13930783e-04],\n",
       "       [4.51456319e-02, 8.49097632e-01, 1.05756737e-01]])"
      ]
     },
     "execution_count": 11,
     "metadata": {},
     "output_type": "execute_result"
    }
   ],
   "source": [
    "softmax_reg.predict_proba(x_new)"
   ]
  },
  {
   "cell_type": "code",
   "execution_count": 12,
   "id": "4e5dfd39-740d-480c-bd88-ca9eaaf55b8f",
   "metadata": {},
   "outputs": [
    {
     "data": {
      "text/plain": [
       "(array([  55.54618827,  126.76827608, -228.4728105 ]),\n",
       " array([[-100.79931973,  154.5939514 ],\n",
       "        [   4.11931173,  -66.95649133],\n",
       "        [  50.02226368,  -32.46333318]]))"
      ]
     },
     "execution_count": 12,
     "metadata": {},
     "output_type": "execute_result"
    }
   ],
   "source": [
    "#梯度下降法(分類的)\n",
    "\n",
    "from sklearn.linear_model import SGDClassifier\n",
    "\n",
    "sgd_clf = SGDClassifier(loss='log', penalty='l2', alpha=0.0001, random_state=1)\n",
    "\n",
    "sgd_clf.fit(x,y)\n",
    "sgd_clf.intercept_, sgd_clf.coef_"
   ]
  },
  {
   "cell_type": "code",
   "execution_count": 13,
   "id": "9e694bd2-ba6b-4089-a8c0-a7b8e7fffe84",
   "metadata": {},
   "outputs": [
    {
     "data": {
      "text/plain": [
       "0.7266666666666667"
      ]
     },
     "execution_count": 13,
     "metadata": {},
     "output_type": "execute_result"
    }
   ],
   "source": [
    "sgd_clf.score(x,y)"
   ]
  },
  {
   "cell_type": "code",
   "execution_count": 14,
   "id": "03088493-45ab-4abf-b392-10fa013b7a98",
   "metadata": {},
   "outputs": [],
   "source": [
    "x_new = [[6.7,4.25], [4.9,3.3], [5.2,2.5]]"
   ]
  },
  {
   "cell_type": "code",
   "execution_count": 15,
   "id": "c8134be1-3f93-499f-8ccc-cc72328e2a0c",
   "metadata": {},
   "outputs": [
    {
     "data": {
      "text/plain": [
       "array([0, 0, 1])"
      ]
     },
     "execution_count": 15,
     "metadata": {},
     "output_type": "execute_result"
    }
   ],
   "source": [
    "sgd_clf.predict(x_new)"
   ]
  },
  {
   "cell_type": "code",
   "execution_count": 16,
   "id": "bc5ba305-9b42-4dc7-acbe-0941c87d750a",
   "metadata": {},
   "outputs": [
    {
     "data": {
      "text/plain": [
       "array([[1.00000000e+00, 2.85744199e-57, 2.56865255e-14],\n",
       "       [1.00000000e+00, 7.25572081e-33, 5.00624319e-40],\n",
       "       [4.70919996e-28, 1.00000000e+00, 6.84384877e-14]])"
      ]
     },
     "execution_count": 16,
     "metadata": {},
     "output_type": "execute_result"
    }
   ],
   "source": [
    "sgd_clf.predict_proba(x_new)"
   ]
  },
  {
   "cell_type": "code",
   "execution_count": 18,
   "id": "866c0ac5-817f-481b-a99e-c68a24159f0d",
   "metadata": {},
   "outputs": [],
   "source": [
    "x1, x2 = np.meshgrid(\n",
    "    np.linspace(4.2, 8, 1000).reshape(-1,1),\n",
    "    np.linspace(1.8, 4.5, 1000).reshape(-1,1)\n",
    ")\n",
    "x_new = np.c_[x1.ravel(),x2.ravel()]\n",
    "y_pred = softmax_reg.predict(x_new)"
   ]
  },
  {
   "cell_type": "code",
   "execution_count": 21,
   "id": "6a86c4d1-40c1-4940-a2a1-3b07e0e70d62",
   "metadata": {},
   "outputs": [
    {
     "data": {
      "image/png": "[encoded data removed]",
      "text/plain": [
       "<Figure size 720x288 with 1 Axes>"
      ]
     },
     "metadata": {
      "needs_background": "light"
     },
     "output_type": "display_data"
    }
   ],
   "source": [
    "plt.figure(figsize=(10,4))\n",
    "plt.plot(x[y==0, 0], x[y==0, 1], \"bo\", label=\"Setosa\")\n",
    "plt.plot(x[y==1, 0], x[y==1, 1], \"rx\", label=\"Versicolor\")\n",
    "plt.plot(x[y==2, 0], x[y==2, 1], \"g^\", label=\"Virginica\")\n",
    "\n",
    "zz = y_pred.reshape(x1.shape)\n",
    "plt.contourf(x1, x2, zz, alpha=0.1) #這裡的alpha在控制等高線圖背景的顏色\n",
    "\n",
    "plt.xlabel(\"$x_1$\", fontsize=14)\n",
    "plt.ylabel(\"$x_2$\", fontsize=14)\n",
    "plt.legend(loc=\"upper left\", bbox_to_anchor=(0.69,1), fontsize=12)\n",
    "plt.axis([4.2, 8, 1.8, 4.5])\n",
    "plt.show()"
   ]
  },
  {
   "cell_type": "code",
   "execution_count": null,
   "id": "79f4876d-5c61-4f12-9754-2705aec40787",
   "metadata": {},
   "outputs": [],
   "source": []
  }
 ],
 "metadata": {
  "kernelspec": {
   "display_name": "Python 3",
   "language": "python",
   "name": "python3"
  },
  "language_info": {
   "codemirror_mode": {
    "name": "ipython",
    "version": 3
   },
   "file_extension": ".py",
   "mimetype": "text/x-python",
   "name": "python",
   "nbconvert_exporter": "python",
   "pygments_lexer": "ipython3",
   "version": "3.8.8"
  }
 },
 "nbformat": 4,
 "nbformat_minor": 5
}
