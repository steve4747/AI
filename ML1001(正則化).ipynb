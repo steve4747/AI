{
 "cells": [
  {
   "cell_type": "code",
   "execution_count": 2,
   "id": "e09e953b-43ad-4192-bb3a-5041afdfebc4",
   "metadata": {},
   "outputs": [],
   "source": [
    "import numpy as np\n",
    "import matplotlib.pyplot as plt"
   ]
  },
  {
   "cell_type": "code",
   "execution_count": 3,
   "id": "908c5906-e6b1-4325-841f-1d2de1cc8344",
   "metadata": {},
   "outputs": [],
   "source": [
    "np.random.seed(1)\n",
    "m = 100\n",
    "x1 = 10 * np.random.rand(m,1) - 6 \n",
    "y = 10 + 6 * x1 + 5 * x1**2 + 30 *np.random.randn(m,1)"
   ]
  },
  {
   "cell_type": "code",
   "execution_count": 4,
   "id": "3fa82178-fc4b-4261-8b32-2058323ee982",
   "metadata": {},
   "outputs": [
    {
     "data": {
      "image/png": "[encoded data removed]",
      "text/plain": [
       "<Figure size 216x144 with 1 Axes>"
      ]
     },
     "metadata": {
      "needs_background": "light"
     },
     "output_type": "display_data"
    }
   ],
   "source": [
    "plt.figure(figsize=(3,2))\n",
    "plt.plot(x1, y, \"b.\")\n",
    "plt.xlabel(\"$x_1$\", fontsize=18)\n",
    "plt.ylabel(\"y\", rotation = 0, fontsize=18)\n",
    "plt.show()"
   ]
  },
  {
   "cell_type": "code",
   "execution_count": 5,
   "id": "6f10f24e-ed3d-47bd-8de8-fd69dc1cb6a4",
   "metadata": {},
   "outputs": [],
   "source": [
    "#split 訓練集/測試集\n",
    "\n",
    "from sklearn.model_selection import train_test_split\n",
    "x1_train,x1_test, y_train, y_test = train_test_split(x1,y, test_size=0.2, random_state=1)"
   ]
  },
  {
   "cell_type": "code",
   "execution_count": 6,
   "id": "74296905-6cfe-43bf-a10b-371f002f9871",
   "metadata": {},
   "outputs": [],
   "source": [
    "#Ridge Regression\n",
    "\n",
    "from sklearn.pipeline import Pipeline\n",
    "from sklearn.preprocessing import PolynomialFeatures, StandardScaler"
   ]
  },
  {
   "cell_type": "code",
   "execution_count": 7,
   "id": "1e6baf0d-9d7a-4912-a673-aa89bf15bc7a",
   "metadata": {},
   "outputs": [
    {
     "data": {
      "text/plain": [
       "Pipeline(steps=[('poly', PolynomialFeatures(include_bias=False)),\n",
       "                ('scal', StandardScaler()),\n",
       "                ('ridge', Ridge(alpha=50.0, random_state=1))])"
      ]
     },
     "execution_count": 7,
     "metadata": {},
     "output_type": "execute_result"
    }
   ],
   "source": [
    "from sklearn.linear_model import Ridge\n",
    "ridge_reg = Pipeline([\n",
    "    ('poly', PolynomialFeatures(degree=2, include_bias=False)),\n",
    "    ('scal', StandardScaler()),\n",
    "    ('ridge', Ridge(alpha=m/2, random_state=1))\n",
    "])\n",
    "ridge_reg.fit(x1_train, y_train)"
   ]
  },
  {
   "cell_type": "code",
   "execution_count": 8,
   "id": "08ece9f0-7d32-494f-92e1-1aaf32ce8f9f",
   "metadata": {},
   "outputs": [
    {
     "data": {
      "text/plain": [
       "(0.5624715988861847, 0.5000997386648433)"
      ]
     },
     "execution_count": 8,
     "metadata": {},
     "output_type": "execute_result"
    }
   ],
   "source": [
    "ridge_reg.score(x1_train, y_train), ridge_reg.score(x1_test, y_test)"
   ]
  },
  {
   "cell_type": "code",
   "execution_count": 9,
   "id": "10cbab4c-08fa-4e08-9bde-697796293d28",
   "metadata": {},
   "outputs": [
    {
     "data": {
      "text/plain": [
       "array([[50.49773754],\n",
       "       [59.13869604],\n",
       "       [31.86781274]])"
      ]
     },
     "execution_count": 9,
     "metadata": {},
     "output_type": "execute_result"
    }
   ],
   "source": [
    "ridge_reg.predict(x1_test[:3])"
   ]
  },
  {
   "cell_type": "code",
   "execution_count": 15,
   "id": "bf65f761-c885-4564-8bf9-ea20cf366fd3",
   "metadata": {},
   "outputs": [
    {
     "data": {
      "text/plain": [
       "Pipeline(steps=[('poly', PolynomialFeatures(include_bias=False)),\n",
       "                ('scal', StandardScaler()),\n",
       "                ('ridge', SGDRegressor(alpha=1, random_state=1))])"
      ]
     },
     "execution_count": 15,
     "metadata": {},
     "output_type": "execute_result"
    }
   ],
   "source": [
    "#SGDRegressor\n",
    "\n",
    "from sklearn.linear_model import SGDRegressor\n",
    "ridge_sgd = Pipeline([\n",
    "    ('poly', PolynomialFeatures(degree=2, include_bias=False)),\n",
    "    ('scal', StandardScaler()),\n",
    "    ('ridge', SGDRegressor(penalty='l2', alpha=1, random_state=1))\n",
    "])\n",
    "ridge_sgd.fit(x1_train, y_train.ravel())"
   ]
  },
  {
   "cell_type": "code",
   "execution_count": 16,
   "id": "e58a3e1a-6b0a-4c76-83ae-6d96a3ddf129",
   "metadata": {},
   "outputs": [
    {
     "data": {
      "text/plain": [
       "(0.48914255940966433, 0.4132817374249068)"
      ]
     },
     "execution_count": 16,
     "metadata": {},
     "output_type": "execute_result"
    }
   ],
   "source": [
    "ridge_sgd.score(x1_train, y_train), ridge_sgd.score(x1_test, y_test)"
   ]
  },
  {
   "cell_type": "code",
   "execution_count": 17,
   "id": "474d2daf-9a0d-4bb6-a0ff-91047537d562",
   "metadata": {},
   "outputs": [
    {
     "data": {
      "text/plain": [
       "array([47.78375855, 58.58856714, 35.37888686])"
      ]
     },
     "execution_count": 17,
     "metadata": {},
     "output_type": "execute_result"
    }
   ],
   "source": [
    "ridge_sgd.predict(x1_test[:3])"
   ]
  },
  {
   "cell_type": "code",
   "execution_count": 40,
   "id": "7709003e-aac5-4aa9-8261-0f9466a7e6e2",
   "metadata": {},
   "outputs": [],
   "source": [
    "#繪製模型\n",
    "\n",
    "def plot_model(model, x1, y):\n",
    "    x1s = np.linspace(x1.min(), x1.max(), 1000).reshape(-1,1)\n",
    "    y_pred = model.predict(x1s)\n",
    "    \n",
    "    plt.plot(x1_train, y_train, 'b.', markersize=3)\n",
    "    plt.plot(x1_test, y_test, 'gx', markersize=3)\n",
    "    plt.plot(x1s, y_pred, \"r-\", linewidth=2, label=\"$\\hat y$\")\n",
    "    \n",
    "    plt.xlabel(\"$X_1$\", fontsize=18)\n",
    "    plt.ylabel(\"y\", rotation=0, fontsize=18)\n",
    "    plt.legend(loc=\"upper center\", fontsize=10)\n",
    "    plt.axis([x1.min()-0.1, x1.max()+0.1, y.min()-5, y.max()+5])"
   ]
  },
  {
   "cell_type": "code",
   "execution_count": 41,
   "id": "9249fffa-34ce-4dde-b644-2e9be188a05b",
   "metadata": {},
   "outputs": [
    {
     "data": {
      "image/png": "[encoded data removed]",
      "text/plain": [
       "<Figure size 288x216 with 1 Axes>"
      ]
     },
     "metadata": {
      "needs_background": "light"
     },
     "output_type": "display_data"
    }
   ],
   "source": [
    "plt.figure(figsize=(4,3))\n",
    "plot_model(ridge_reg, x1, y)\n",
    "plt.show()"
   ]
  },
  {
   "cell_type": "code",
   "execution_count": 42,
   "id": "73256119-a0e1-4614-ae33-bc0e6278275f",
   "metadata": {},
   "outputs": [
    {
     "data": {
      "image/png": "[encoded data removed]",
      "text/plain": [
       "<Figure size 288x216 with 1 Axes>"
      ]
     },
     "metadata": {
      "needs_background": "light"
     },
     "output_type": "display_data"
    }
   ],
   "source": [
    "plt.figure(figsize=(4,3))\n",
    "plot_model(ridge_sgd, x1, y)\n",
    "plt.show()"
   ]
  },
  {
   "cell_type": "code",
   "execution_count": 30,
   "id": "bfcfefaf-f5f1-4537-99e4-41d46f144ee8",
   "metadata": {},
   "outputs": [
    {
     "data": {
      "text/plain": [
       "Pipeline(steps=[('poly', PolynomialFeatures(include_bias=False)),\n",
       "                ('scal', StandardScaler()),\n",
       "                ('lasso', Lasso(alpha=1, random_state=1))])"
      ]
     },
     "execution_count": 30,
     "metadata": {},
     "output_type": "execute_result"
    }
   ],
   "source": [
    "#Lasso\n",
    "\n",
    "from sklearn.linear_model import Lasso\n",
    "lasso_reg = Pipeline([\n",
    "    ('poly', PolynomialFeatures(degree=2, include_bias=False)),\n",
    "    ('scal', StandardScaler()),\n",
    "    ('lasso', Lasso(alpha=1, random_state=1))\n",
    "])\n",
    "lasso_reg.fit(x1_train, y_train)"
   ]
  },
  {
   "cell_type": "code",
   "execution_count": 32,
   "id": "7eb68c1f-03ae-41e0-9d08-8b47552e2081",
   "metadata": {},
   "outputs": [
    {
     "data": {
      "text/plain": [
       "(0.7289049773635354, 0.7090703555227444)"
      ]
     },
     "execution_count": 32,
     "metadata": {},
     "output_type": "execute_result"
    }
   ],
   "source": [
    "lasso_reg.score(x1_train, y_train), lasso_reg.score(x1_test, y_test)"
   ]
  },
  {
   "cell_type": "code",
   "execution_count": 33,
   "id": "3ac5ba29-1182-4534-962e-e92ae7bb5a23",
   "metadata": {},
   "outputs": [
    {
     "data": {
      "text/plain": [
       "array([63.93127861, 47.72171974,  7.57641004])"
      ]
     },
     "execution_count": 33,
     "metadata": {},
     "output_type": "execute_result"
    }
   ],
   "source": [
    "lasso_reg.predict(x1_test[:3])"
   ]
  },
  {
   "cell_type": "code",
   "execution_count": 36,
   "id": "505fd785-82d3-4b2c-89ab-75619ea10c90",
   "metadata": {},
   "outputs": [
    {
     "data": {
      "text/plain": [
       "Pipeline(steps=[('poly', PolynomialFeatures(include_bias=False)),\n",
       "                ('scal', StandardScaler()),\n",
       "                ('lasso', SGDRegressor(alpha=1, penalty='l1', random_state=1))])"
      ]
     },
     "execution_count": 36,
     "metadata": {},
     "output_type": "execute_result"
    }
   ],
   "source": [
    "from sklearn.linear_model import SGDRegressor\n",
    "\n",
    "lasso_sgd = Pipeline([\n",
    "    ('poly', PolynomialFeatures(degree=2, include_bias=False)),\n",
    "    ('scal', StandardScaler()),\n",
    "    ('lasso', SGDRegressor(penalty='l1', alpha=1, random_state=1))\n",
    "])\n",
    "lasso_sgd.fit(x1_train, y_train.ravel())"
   ]
  },
  {
   "cell_type": "code",
   "execution_count": 37,
   "id": "5e165d8b-8c58-4981-b5dc-aaf0790d6324",
   "metadata": {},
   "outputs": [
    {
     "data": {
      "text/plain": [
       "(0.7284890196449929, 0.7089179245883366)"
      ]
     },
     "execution_count": 37,
     "metadata": {},
     "output_type": "execute_result"
    }
   ],
   "source": [
    "lasso_sgd.score(x1_train, y_train), lasso_sgd.score(x1_test, y_test)"
   ]
  },
  {
   "cell_type": "code",
   "execution_count": 38,
   "id": "5e569d98-484c-459b-afdb-820174fa21f4",
   "metadata": {},
   "outputs": [
    {
     "data": {
      "text/plain": [
       "array([63.65542504, 47.90341769,  7.82005821])"
      ]
     },
     "execution_count": 38,
     "metadata": {},
     "output_type": "execute_result"
    }
   ],
   "source": [
    "lasso_sgd.predict(x1_test[:3])"
   ]
  },
  {
   "cell_type": "code",
   "execution_count": 43,
   "id": "6fbd3546-ad96-437a-82c3-8b2943b9569c",
   "metadata": {},
   "outputs": [
    {
     "data": {
      "image/png": "[encoded data removed]",
      "text/plain": [
       "<Figure size 288x216 with 1 Axes>"
      ]
     },
     "metadata": {
      "needs_background": "light"
     },
     "output_type": "display_data"
    }
   ],
   "source": [
    "plt.figure(figsize=(4,3))\n",
    "plot_model(lasso_reg, x1, y)\n",
    "plt.show()"
   ]
  },
  {
   "cell_type": "code",
   "execution_count": 45,
   "id": "ec7846ea-6b54-4cf5-9554-144f31e5c78e",
   "metadata": {},
   "outputs": [
    {
     "data": {
      "text/plain": [
       "Pipeline(steps=[('poly', PolynomialFeatures(include_bias=False)),\n",
       "                ('scal', StandardScaler()),\n",
       "                ('elastic', ElasticNet(alpha=1, random_state=1))])"
      ]
     },
     "execution_count": 45,
     "metadata": {},
     "output_type": "execute_result"
    }
   ],
   "source": [
    "#ElasticNet()\n",
    "\n",
    "from sklearn.linear_model import ElasticNet\n",
    "elastic_reg = Pipeline([\n",
    "    ('poly', PolynomialFeatures(degree=2, include_bias=False)),\n",
    "    ('scal', StandardScaler()),\n",
    "    ('elastic', ElasticNet(alpha=1, l1_ratio=0.5, random_state=1))\n",
    "])\n",
    "elastic_reg.fit(x1_train, y_train)"
   ]
  },
  {
   "cell_type": "code",
   "execution_count": 46,
   "id": "c8dddb03-df58-424b-82f5-9ad89f870f17",
   "metadata": {},
   "outputs": [
    {
     "data": {
      "text/plain": [
       "(0.5863340512948914, 0.5331573407141718)"
      ]
     },
     "execution_count": 46,
     "metadata": {},
     "output_type": "execute_result"
    }
   ],
   "source": [
    "elastic_reg.score(x1_train, y_train), elastic_reg.score(x1_test, y_test)"
   ]
  },
  {
   "cell_type": "code",
   "execution_count": 47,
   "id": "39d0f854-26f9-4547-bba2-4ac04337c9b5",
   "metadata": {},
   "outputs": [
    {
     "data": {
      "text/plain": [
       "array([50.69422872, 58.62751416, 29.73199465])"
      ]
     },
     "execution_count": 47,
     "metadata": {},
     "output_type": "execute_result"
    }
   ],
   "source": [
    "elastic_reg.predict(x1_test[:3])"
   ]
  },
  {
   "cell_type": "code",
   "execution_count": 49,
   "id": "1015e367-c207-4069-ba4d-a062eda1c2ae",
   "metadata": {},
   "outputs": [
    {
     "data": {
      "text/plain": [
       "Pipeline(steps=[('poly', PolynomialFeatures(include_bias=False)),\n",
       "                ('scal', StandardScaler()),\n",
       "                ('elastic',\n",
       "                 SGDRegressor(alpha=1, l1_ratio=0.5, random_state=1))])"
      ]
     },
     "execution_count": 49,
     "metadata": {},
     "output_type": "execute_result"
    }
   ],
   "source": [
    "from sklearn.linear_model import SGDRegressor\n",
    "\n",
    "elastic_sgd = Pipeline([\n",
    "    ('poly', PolynomialFeatures(degree=2, include_bias=False)),\n",
    "    ('scal', StandardScaler()),\n",
    "    ('elastic', SGDRegressor(penalty='l2', l1_ratio=0.5, alpha=1, random_state=1))\n",
    "])\n",
    "elastic_sgd.fit(x1_train, y_train.ravel())"
   ]
  },
  {
   "cell_type": "code",
   "execution_count": 50,
   "id": "2ac607f5-b93a-43ee-9053-14bff7231bda",
   "metadata": {},
   "outputs": [
    {
     "data": {
      "text/plain": [
       "(0.48914255940966433, 0.4132817374249068)"
      ]
     },
     "execution_count": 50,
     "metadata": {},
     "output_type": "execute_result"
    }
   ],
   "source": [
    "elastic_sgd.score(x1_train, y_train), elastic_sgd.score(x1_test, y_test)"
   ]
  },
  {
   "cell_type": "code",
   "execution_count": 51,
   "id": "67ef8d02-25a5-4691-8cbc-0dae01e5a55a",
   "metadata": {},
   "outputs": [
    {
     "data": {
      "text/plain": [
       "array([47.78375855, 58.58856714, 35.37888686])"
      ]
     },
     "execution_count": 51,
     "metadata": {},
     "output_type": "execute_result"
    }
   ],
   "source": [
    "elastic_sgd.predict(x1_test[:3])"
   ]
  },
  {
   "cell_type": "code",
   "execution_count": 52,
   "id": "2ea48ccc-f9b6-4cc1-85b2-b204b575ff82",
   "metadata": {},
   "outputs": [
    {
     "data": {
      "image/png": "[encoded data removed]",
      "text/plain": [
       "<Figure size 288x216 with 1 Axes>"
      ]
     },
     "metadata": {
      "needs_background": "light"
     },
     "output_type": "display_data"
    }
   ],
   "source": [
    "plt.figure(figsize=(4,3))\n",
    "plot_model(elastic_reg, x1, y)\n",
    "plt.show()"
   ]
  },
  {
   "cell_type": "code",
   "execution_count": null,
   "id": "eeaf2e3f-1635-4bcd-8a48-ec9401d2dd64",
   "metadata": {},
   "outputs": [],
   "source": []
  }
 ],
 "metadata": {
  "kernelspec": {
   "display_name": "Python 3",
   "language": "python",
   "name": "python3"
  },
  "language_info": {
   "codemirror_mode": {
    "name": "ipython",
    "version": 3
   },
   "file_extension": ".py",
   "mimetype": "text/x-python",
   "name": "python",
   "nbconvert_exporter": "python",
   "pygments_lexer": "ipython3",
   "version": "3.8.8"
  }
 },
 "nbformat": 4,
 "nbformat_minor": 5
}
