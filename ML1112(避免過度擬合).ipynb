{
 "cells": [
  {
   "cell_type": "code",
   "execution_count": 1,
   "id": "60d3f51d-d7b1-49bb-9561-3e231a094641",
   "metadata": {},
   "outputs": [],
   "source": [
    "import tensorflow as tf\n",
    "from tensorflow import keras\n",
    "import numpy as np\n",
    "import matplotlib.pyplot as plt"
   ]
  },
  {
   "cell_type": "code",
   "execution_count": 2,
   "id": "d757730a-f66d-469e-bd97-3465974fd462",
   "metadata": {},
   "outputs": [
    {
     "data": {
      "text/plain": [
       "['L1',\n",
       " 'L1L2',\n",
       " 'L2',\n",
       " 'OrthogonalRegularizer',\n",
       " 'Regularizer',\n",
       " 'deserialize',\n",
       " 'get',\n",
       " 'l1',\n",
       " 'l1_l2',\n",
       " 'l2',\n",
       " 'orthogonal_regularizer',\n",
       " 'serialize']"
      ]
     },
     "execution_count": 2,
     "metadata": {},
     "output_type": "execute_result"
    }
   ],
   "source": [
    "#Regularization\n",
    "[name for name in dir(keras.regularizers) if not name.startswith('_')]"
   ]
  },
  {
   "cell_type": "code",
   "execution_count": 4,
   "id": "c13a3814-ea2e-40c9-8439-3b838945fae1",
   "metadata": {},
   "outputs": [],
   "source": [
    "r_l1 = keras.regularizers.l1(l1=0.01)\n",
    "r_l2 = keras.regularizers.l2(l2=0.02)\n",
    "r_l1_l2 = keras.regularizers.l1_l2(l1=0.01, l2=0.01)"
   ]
  },
  {
   "cell_type": "code",
   "execution_count": 5,
   "id": "abb71486-171a-454a-be1b-119052a4d540",
   "metadata": {},
   "outputs": [],
   "source": [
    "#load data\n",
    "from tensorflow.keras.datasets import fashion_mnist\n",
    "(x_train_set, y_train_set), (x_test, y_test) = fashion_mnist.load_data()\n",
    "\n",
    "#Split data\n",
    "from sklearn.model_selection import train_test_split\n",
    "x_train, x_valid, y_train, y_valid = train_test_split(x_train_set, y_train_set, random_state=1)\n",
    "\n",
    "#Preprocessing\n",
    "pixel_means = x_train.mean(axis=0, keepdims=True)\n",
    "pixel_stds = x_train.std(axis=0, keepdims=True)\n",
    "x_train_scaled = (x_train - pixel_means) / pixel_stds\n",
    "x_valid_scaled = (x_valid - pixel_means) / pixel_stds\n",
    "x_test_scaled = (x_test - pixel_means) / pixel_stds"
   ]
  },
  {
   "cell_type": "code",
   "execution_count": 6,
   "id": "a6c169a2-ba26-4b92-95f0-dd58e3ff3986",
   "metadata": {},
   "outputs": [],
   "source": [
    "tf.keras.backend.clear_session()\n",
    "np.random.seed(1)\n",
    "tf.random.set_seed(1)"
   ]
  },
  {
   "cell_type": "code",
   "execution_count": 9,
   "id": "dda72e14-a1f7-4bce-96e8-336b8b22e648",
   "metadata": {},
   "outputs": [],
   "source": [
    "r_l2 = keras.regularizers.l2(l2=0.01)\n",
    "\n",
    "model = keras.models.Sequential([\n",
    "    keras.layers.Flatten(input_shape=[28,28]),\n",
    "    keras.layers.Dense(300, activation='relu', kernel_initializer='he_normal', kernel_regularizer=r_l2),\n",
    "    keras.layers.Dense(100, activation='relu', kernel_initializer='he_normal', kernel_regularizer=r_l2),\n",
    "    keras.layers.Dense(10,activation='softmax', kernel_regularizer=r_l2)\n",
    "])"
   ]
  },
  {
   "cell_type": "code",
   "execution_count": 11,
   "id": "cceb878f-f245-4155-a918-a39ae91f8db4",
   "metadata": {},
   "outputs": [],
   "source": [
    "model.compile(loss='sparse_categorical_crossentropy', optimizer='nadam', metrics=['accuracy'])"
   ]
  },
  {
   "cell_type": "code",
   "execution_count": 12,
   "id": "88842979-1325-4a4d-9c99-1c89e29634b2",
   "metadata": {},
   "outputs": [
    {
     "name": "stdout",
     "output_type": "stream",
     "text": [
      "Epoch 1/2\n",
      "1407/1407 [==============================] - 13s 9ms/step - loss: 1.6802 - accuracy: 0.8148 - val_loss: 0.8575 - val_accuracy: 0.7857\n",
      "Epoch 2/2\n",
      "1407/1407 [==============================] - 13s 9ms/step - loss: 0.7362 - accuracy: 0.8286 - val_loss: 0.7210 - val_accuracy: 0.8303\n"
     ]
    }
   ],
   "source": [
    "train = model.fit(x_train_scaled, y_train, epochs=2, validation_data=(x_valid_scaled, y_valid))"
   ]
  },
  {
   "cell_type": "code",
   "execution_count": 13,
   "id": "b1736bbe-9e84-483b-b89f-aff93aeeb724",
   "metadata": {},
   "outputs": [],
   "source": [
    "#Dropout\n",
    "\n",
    "model2 = keras.models.Sequential([\n",
    "    keras.layers.Flatten(input_shape=[28,28]),\n",
    "    keras.layers.Dropout(rate=0.2),\n",
    "    keras.layers.Dense(300, activation='relu', kernel_initializer='he_normal'),\n",
    "    keras.layers.Dropout(rate=0.2),\n",
    "    keras.layers.Dense(100, activation='relu', kernel_initializer='he_normal'),\n",
    "    keras.layers.Dropout(rate=0.2),\n",
    "    keras.layers.Dense(10,activation='softmax')\n",
    "])"
   ]
  },
  {
   "cell_type": "code",
   "execution_count": 14,
   "id": "54bcb314-1069-4aa9-9191-148b64939696",
   "metadata": {},
   "outputs": [],
   "source": [
    "model2.compile(loss='sparse_categorical_crossentropy', optimizer='nadam', metrics=['accuracy'])"
   ]
  },
  {
   "cell_type": "code",
   "execution_count": 15,
   "id": "97ef2e29-1bcd-4809-9510-099c9608abec",
   "metadata": {},
   "outputs": [
    {
     "name": "stdout",
     "output_type": "stream",
     "text": [
      "Epoch 1/2\n",
      "1407/1407 [==============================] - 13s 8ms/step - loss: 0.5746 - accuracy: 0.7939 - val_loss: 0.4080 - val_accuracy: 0.8485\n",
      "Epoch 2/2\n",
      "1407/1407 [==============================] - 13s 9ms/step - loss: 0.4409 - accuracy: 0.8386 - val_loss: 0.3660 - val_accuracy: 0.8676\n"
     ]
    }
   ],
   "source": [
    "train2 = model2.fit(x_train_scaled, y_train, epochs=2, validation_data=(x_valid_scaled, y_valid))"
   ]
  },
  {
   "cell_type": "code",
   "execution_count": 16,
   "id": "871ac596-512f-4a7a-b400-5ebc3498317c",
   "metadata": {},
   "outputs": [
    {
     "name": "stdout",
     "output_type": "stream",
     "text": [
      "313/313 [==============================] - 1s 2ms/step - loss: 0.3892 - accuracy: 0.8545\n"
     ]
    },
    {
     "data": {
      "text/plain": [
       "[0.3892241418361664, 0.8544999957084656]"
      ]
     },
     "execution_count": 16,
     "metadata": {},
     "output_type": "execute_result"
    }
   ],
   "source": [
    "model2.evaluate(x_test_scaled, y_test)"
   ]
  },
  {
   "cell_type": "code",
   "execution_count": 17,
   "id": "15e94dd1-b095-4fdb-a562-08205ab4abe6",
   "metadata": {},
   "outputs": [
    {
     "name": "stdout",
     "output_type": "stream",
     "text": [
      "313/313 [==============================] - 1s 1ms/step\n"
     ]
    },
    {
     "data": {
      "text/plain": [
       "array([[0.  , 0.  , 0.  , 0.  , 0.  , 0.06, 0.  , 0.33, 0.  , 0.61],\n",
       "       [0.  , 0.  , 0.86, 0.  , 0.03, 0.  , 0.1 , 0.  , 0.  , 0.  ],\n",
       "       [0.  , 1.  , 0.  , 0.  , 0.  , 0.  , 0.  , 0.  , 0.  , 0.  ]],\n",
       "      dtype=float32)"
      ]
     },
     "execution_count": 17,
     "metadata": {},
     "output_type": "execute_result"
    }
   ],
   "source": [
    "y_proba = model.predict(x_test_scaled)\n",
    "y_proba[:3].round(2)"
   ]
  },
  {
   "cell_type": "code",
   "execution_count": 19,
   "id": "c4a36c28-e529-4d34-8ff1-05f5116e7bd9",
   "metadata": {},
   "outputs": [
    {
     "data": {
      "text/plain": [
       "array([9, 2, 1], dtype=int64)"
      ]
     },
     "execution_count": 19,
     "metadata": {},
     "output_type": "execute_result"
    }
   ],
   "source": [
    "y_pred = np.argmax(y_proba,axis=1)\n",
    "y_pred[:3]"
   ]
  },
  {
   "cell_type": "code",
   "execution_count": 20,
   "id": "e320c218-a3a0-4802-af85-cfeb36640f8c",
   "metadata": {},
   "outputs": [
    {
     "data": {
      "text/plain": [
       "array([9, 2, 1], dtype=uint8)"
      ]
     },
     "execution_count": 20,
     "metadata": {},
     "output_type": "execute_result"
    }
   ],
   "source": [
    "y_test[:3]"
   ]
  },
  {
   "cell_type": "code",
   "execution_count": 24,
   "id": "11b13fd2-7fb8-4417-a7d3-40724297063f",
   "metadata": {},
   "outputs": [
    {
     "data": {
      "text/plain": [
       "(100, 3, 10)"
      ]
     },
     "execution_count": 24,
     "metadata": {},
     "output_type": "execute_result"
    }
   ],
   "source": [
    "#MC Dropout\n",
    "\n",
    "y_probs = np.stack([model2(x_test_scaled[:3], training=True) for _ in range(100)])\n",
    "y_probs.shape"
   ]
  },
  {
   "cell_type": "code",
   "execution_count": 25,
   "id": "4bfc3561-c6c9-4976-af72-29d4d3f9e0eb",
   "metadata": {},
   "outputs": [
    {
     "data": {
      "text/plain": [
       "array([[0.  , 0.  , 0.  , 0.  , 0.  , 0.05, 0.  , 0.15, 0.  , 0.8 ],\n",
       "       [0.  , 0.  , 0.96, 0.  , 0.02, 0.  , 0.02, 0.  , 0.  , 0.  ],\n",
       "       [0.  , 1.  , 0.  , 0.  , 0.  , 0.  , 0.  , 0.  , 0.  , 0.  ]],\n",
       "      dtype=float32)"
      ]
     },
     "execution_count": 25,
     "metadata": {},
     "output_type": "execute_result"
    }
   ],
   "source": [
    "y_proba_mc = y_probs.mean(axis=0)\n",
    "np.round(y_proba_mc,2)"
   ]
  },
  {
   "cell_type": "code",
   "execution_count": 26,
   "id": "cb11478e-3c33-4641-971e-deca7688e026",
   "metadata": {},
   "outputs": [
    {
     "data": {
      "text/plain": [
       "array([9, 2, 1], dtype=int64)"
      ]
     },
     "execution_count": 26,
     "metadata": {},
     "output_type": "execute_result"
    }
   ],
   "source": [
    "y_pred = np.argmax(y_proba_mc, axis=1)\n",
    "y_pred"
   ]
  },
  {
   "cell_type": "code",
   "execution_count": 30,
   "id": "0c21d5ea-5ae0-4dc7-aaca-377eeb9e1bbf",
   "metadata": {},
   "outputs": [],
   "source": [
    "#Alpha Dropout\n",
    "\n",
    "model3 = keras.models.Sequential([\n",
    "    keras.layers.Flatten(input_shape=[28,28]),\n",
    "    keras.layers.AlphaDropout(rate=0.2),\n",
    "    keras.layers.Dense(300, activation='selu', kernel_initializer='lecun_normal'),\n",
    "    keras.layers.AlphaDropout(rate=0.2),\n",
    "    keras.layers.Dense(100, activation='selu', kernel_initializer='lecun_normal'),\n",
    "    keras.layers.AlphaDropout(rate=0.2),\n",
    "    keras.layers.Dense(10,activation='softmax')\n",
    "])"
   ]
  },
  {
   "cell_type": "code",
   "execution_count": 34,
   "id": "a0033ff2-5e05-402d-b2ad-7f5bbf6891c1",
   "metadata": {},
   "outputs": [],
   "source": [
    "model3.compile(loss='sparse_categorical_crossentropy',optimizer='nadam',metrics=['accuracy'])"
   ]
  },
  {
   "cell_type": "code",
   "execution_count": 35,
   "id": "f0e81653-37b5-415a-8b76-1ca0cabf91ad",
   "metadata": {},
   "outputs": [
    {
     "name": "stdout",
     "output_type": "stream",
     "text": [
      "Epoch 1/2\n",
      "1407/1407 [==============================] - 13s 9ms/step - loss: 0.6664 - accuracy: 0.7630 - val_loss: 0.6163 - val_accuracy: 0.8271\n",
      "Epoch 2/2\n",
      "1407/1407 [==============================] - 14s 10ms/step - loss: 0.5077 - accuracy: 0.8118 - val_loss: 0.4989 - val_accuracy: 0.8473\n"
     ]
    }
   ],
   "source": [
    "train3 = model3.fit(x_train_scaled, y_train, epochs=2, validation_data=(x_valid_scaled, y_valid))"
   ]
  },
  {
   "cell_type": "code",
   "execution_count": 36,
   "id": "715871e2-640b-4a4c-acd1-3dc2643f8aad",
   "metadata": {},
   "outputs": [],
   "source": [
    "#Max-Norm Regularization\n",
    "\n",
    "model4 = keras.models.Sequential([\n",
    "    keras.layers.Flatten(input_shape=[28,28]),\n",
    "    keras.layers.AlphaDropout(rate=0.2),\n",
    "    keras.layers.Dense(300, activation='selu', \n",
    "                       kernel_initializer='lecun_normal',\n",
    "                      kernel_constraint = keras.constraints.max_norm(1.)),\n",
    "    keras.layers.AlphaDropout(rate=0.2),\n",
    "    keras.layers.Dense(100, activation='selu', \n",
    "                       kernel_initializer='lecun_normal',\n",
    "                      kernel_constraint = keras.constraints.max_norm(1.)),\n",
    "    keras.layers.AlphaDropout(rate=0.2),\n",
    "    keras.layers.Dense(10,activation='softmax')\n",
    "])"
   ]
  },
  {
   "cell_type": "code",
   "execution_count": 37,
   "id": "e5f24cf0-c00a-4cb8-9ca6-5fa90a7260c7",
   "metadata": {},
   "outputs": [],
   "source": [
    "model4.compile(loss='sparse_categorical_crossentropy',\n",
    "              optimizer = 'nadam',\n",
    "              metrics=['accuracy'])"
   ]
  },
  {
   "cell_type": "code",
   "execution_count": 38,
   "id": "409d229d-e129-479c-a290-35d567b935ec",
   "metadata": {},
   "outputs": [
    {
     "name": "stdout",
     "output_type": "stream",
     "text": [
      "Epoch 1/2\n",
      "1407/1407 [==============================] - 16s 11ms/step - loss: 0.6682 - accuracy: 0.7628 - val_loss: 0.6030 - val_accuracy: 0.8254\n",
      "Epoch 2/2\n",
      "1407/1407 [==============================] - 16s 11ms/step - loss: 0.5185 - accuracy: 0.8097 - val_loss: 0.5257 - val_accuracy: 0.8401\n"
     ]
    }
   ],
   "source": [
    "train4 = model4.fit(x_train_scaled, y_train, epochs=2,\n",
    "                   validation_data=(x_valid_scaled, y_valid))"
   ]
  },
  {
   "cell_type": "code",
   "execution_count": null,
   "id": "b7489694-d7a9-4cd1-be39-877afa024101",
   "metadata": {},
   "outputs": [],
   "source": []
  }
 ],
 "metadata": {
  "kernelspec": {
   "display_name": "Python 3",
   "language": "python",
   "name": "python3"
  },
  "language_info": {
   "codemirror_mode": {
    "name": "ipython",
    "version": 3
   },
   "file_extension": ".py",
   "mimetype": "text/x-python",
   "name": "python",
   "nbconvert_exporter": "python",
   "pygments_lexer": "ipython3",
   "version": "3.8.8"
  }
 },
 "nbformat": 4,
 "nbformat_minor": 5
}
