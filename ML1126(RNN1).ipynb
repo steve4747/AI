{
 "cells": [
  {
   "cell_type": "code",
   "execution_count": 1,
   "id": "9dcc8361-79ee-4bca-aa54-48bc91e16e02",
   "metadata": {},
   "outputs": [],
   "source": [
    "import numpy as np\n",
    "import pandas as pd\n",
    "import matplotlib.pyplot as plt\n",
    "import tensorflow as tf\n",
    "from tensorflow import keras"
   ]
  },
  {
   "cell_type": "code",
   "execution_count": 8,
   "id": "9facc7a5-2366-4f05-a147-0df04f29106f",
   "metadata": {},
   "outputs": [],
   "source": [
    "def generate_time_series(m, n_seq):\n",
    "    freq1, freq2, offsets1, offsets2 = np.random.rand(4,m,1)\n",
    "    time = np.linspace(0, 1, n_seq)\n",
    "    series = 0.5 *np.cos((time-offsets1) * (freq1 * 10 + 10))\n",
    "    series += 0.3 *np.sin((time-offsets2) * (freq2 * 20 + 20))\n",
    "    series += 0.1 * (np.random.rand(m, n_seq)-0.5)\n",
    "    return series[..., np.newaxis].astype(np.float32)"
   ]
  },
  {
   "cell_type": "code",
   "execution_count": 9,
   "id": "d7832c2d-c62f-4fcf-8c9c-6317f1bd59ce",
   "metadata": {},
   "outputs": [
    {
     "data": {
      "text/plain": [
       "(5000, 31, 1)"
      ]
     },
     "execution_count": 9,
     "metadata": {},
     "output_type": "execute_result"
    }
   ],
   "source": [
    "np.random.seed(1)\n",
    "n_seq = 30\n",
    "n_pred = 1\n",
    "\n",
    "series = generate_time_series(5000, n_seq+n_pred)\n",
    "series.shape"
   ]
  },
  {
   "cell_type": "code",
   "execution_count": 10,
   "id": "a902eff2-a71d-423a-ad54-cabba0ff796c",
   "metadata": {},
   "outputs": [],
   "source": [
    "x_train, y_train = series[:3000, :n_seq], series[:3000,-1]\n",
    "x_valid,y_valid = series[3000:4000, :n_seq], series[3000:4000, -1]\n",
    "x_test, y_test = series[4000:,:n_seq], series[4000:, -1]"
   ]
  },
  {
   "cell_type": "code",
   "execution_count": 11,
   "id": "819bb3be-bf40-4f11-ad49-781664ee870a",
   "metadata": {},
   "outputs": [
    {
     "data": {
      "text/plain": [
       "((3000, 30, 1), (3000, 1))"
      ]
     },
     "execution_count": 11,
     "metadata": {},
     "output_type": "execute_result"
    }
   ],
   "source": [
    "x_train.shape, y_train.shape"
   ]
  },
  {
   "cell_type": "code",
   "execution_count": 16,
   "id": "1681ee21-092d-45b9-9279-063dd0c2279f",
   "metadata": {},
   "outputs": [],
   "source": [
    "def plot_seq(x, y, y_pred=None):\n",
    "    plt.plot(x, '.-')\n",
    "    n_seq = x.shape[0]\n",
    "    ahead = y.shape[0]\n",
    "    plt.plot(np.arange(n_seq, n_seq+ahead), y, 'go-', label='$y$')\n",
    "    if y_pred is not None:\n",
    "        plt.plot(np.arange(n_seq, n_seq+ahead), y_pred, 'rx-',\n",
    "                label='$\\hat y$', markersize=10)\n",
    "    plt.hlines(0, 0, n_seq + ahead, linewidth = 1)\n",
    "    plt.axis([0, n_seq +ahead, -1, 1])\n",
    "    plt.grid(True)\n",
    "    plt.legend(fontsize=14)"
   ]
  },
  {
   "cell_type": "code",
   "execution_count": 17,
   "id": "09561929-2e7d-47cc-9724-05771734bcd8",
   "metadata": {},
   "outputs": [
    {
     "data": {
      "image/png": "[encoded data removed]",
      "text/plain": [
       "<Figure size 432x288 with 1 Axes>"
      ]
     },
     "metadata": {
      "needs_background": "light"
     },
     "output_type": "display_data"
    }
   ],
   "source": [
    "plot_seq(x_test[0, :, 0], y_test[0])"
   ]
  },
  {
   "cell_type": "code",
   "execution_count": 18,
   "id": "afe53dff-64dd-468e-80a4-1bef960c2817",
   "metadata": {},
   "outputs": [],
   "source": [
    "#1. Build model"
   ]
  },
  {
   "cell_type": "code",
   "execution_count": 20,
   "id": "0235843d-f902-460e-a4a8-e16ea8ea7147",
   "metadata": {},
   "outputs": [],
   "source": [
    "np.random.seed(1)\n",
    "tf.random.set_seed(1)"
   ]
  },
  {
   "cell_type": "code",
   "execution_count": 21,
   "id": "bcb8cd71-eb38-4ceb-bcc1-144d29f10cbf",
   "metadata": {},
   "outputs": [
    {
     "name": "stdout",
     "output_type": "stream",
     "text": [
      "Model: \"sequential\"\n",
      "_________________________________________________________________\n",
      " Layer (type)                Output Shape              Param #   \n",
      "=================================================================\n",
      " simple_rnn (SimpleRNN)      (None, 1)                 3         \n",
      "                                                                 \n",
      "=================================================================\n",
      "Total params: 3\n",
      "Trainable params: 3\n",
      "Non-trainable params: 0\n",
      "_________________________________________________________________\n"
     ]
    }
   ],
   "source": [
    "model = keras.models.Sequential([\n",
    "    keras.layers.SimpleRNN(1,input_shape=[None, 1])\n",
    "])\n",
    "model.summary()"
   ]
  },
  {
   "cell_type": "code",
   "execution_count": 22,
   "id": "bfb72883-1b1d-4c72-8233-d4331c26c132",
   "metadata": {},
   "outputs": [],
   "source": [
    "#2. Compile"
   ]
  },
  {
   "cell_type": "code",
   "execution_count": 23,
   "id": "3b100d10-f1db-4985-bf35-4b7767c7ca18",
   "metadata": {},
   "outputs": [],
   "source": [
    "opt = keras.optimizers.Adam(learning_rate=0.05)\n",
    "\n",
    "model.compile(loss='mse', optimizer=opt)"
   ]
  },
  {
   "cell_type": "code",
   "execution_count": 24,
   "id": "1893e838-011f-4b1b-b111-9fbd13e9ae87",
   "metadata": {},
   "outputs": [],
   "source": [
    "#3. Train"
   ]
  },
  {
   "cell_type": "code",
   "execution_count": 26,
   "id": "b1712bfa-b42f-4f9c-8529-25c8c5d4a6ca",
   "metadata": {},
   "outputs": [
    {
     "name": "stdout",
     "output_type": "stream",
     "text": [
      "Epoch 1/20\n",
      "94/94 [==============================] - 3s 18ms/step - loss: 0.0635 - val_loss: 0.0290\n",
      "Epoch 2/20\n",
      "94/94 [==============================] - 1s 13ms/step - loss: 0.0298 - val_loss: 0.0291\n",
      "Epoch 3/20\n",
      "94/94 [==============================] - 1s 13ms/step - loss: 0.0300 - val_loss: 0.0289\n",
      "Epoch 4/20\n",
      "94/94 [==============================] - 1s 12ms/step - loss: 0.0300 - val_loss: 0.0287\n",
      "Epoch 5/20\n",
      "94/94 [==============================] - 1s 12ms/step - loss: 0.0300 - val_loss: 0.0287\n",
      "Epoch 6/20\n",
      "94/94 [==============================] - 1s 13ms/step - loss: 0.0300 - val_loss: 0.0285\n",
      "Epoch 7/20\n",
      "94/94 [==============================] - 1s 13ms/step - loss: 0.0301 - val_loss: 0.0285\n",
      "Epoch 8/20\n",
      "94/94 [==============================] - 1s 13ms/step - loss: 0.0301 - val_loss: 0.0285\n",
      "Epoch 9/20\n",
      "94/94 [==============================] - 1s 13ms/step - loss: 0.0298 - val_loss: 0.0286\n",
      "Epoch 10/20\n",
      "94/94 [==============================] - 1s 12ms/step - loss: 0.0302 - val_loss: 0.0305\n",
      "Epoch 11/20\n",
      "94/94 [==============================] - 1s 12ms/step - loss: 0.0299 - val_loss: 0.0290\n",
      "Epoch 12/20\n",
      "94/94 [==============================] - 1s 12ms/step - loss: 0.0299 - val_loss: 0.0292\n",
      "Epoch 13/20\n",
      "94/94 [==============================] - 1s 12ms/step - loss: 0.0305 - val_loss: 0.0289\n",
      "Epoch 14/20\n",
      "94/94 [==============================] - 1s 12ms/step - loss: 0.0297 - val_loss: 0.0285\n",
      "Epoch 15/20\n",
      "94/94 [==============================] - 1s 13ms/step - loss: 0.0300 - val_loss: 0.0286\n",
      "Epoch 16/20\n",
      "94/94 [==============================] - 1s 12ms/step - loss: 0.0298 - val_loss: 0.0287\n",
      "Epoch 17/20\n",
      "94/94 [==============================] - 1s 12ms/step - loss: 0.0300 - val_loss: 0.0304\n",
      "Epoch 18/20\n",
      "94/94 [==============================] - 1s 13ms/step - loss: 0.0300 - val_loss: 0.0289\n",
      "Epoch 19/20\n",
      "94/94 [==============================] - 1s 13ms/step - loss: 0.0303 - val_loss: 0.0290\n",
      "Epoch 20/20\n",
      "94/94 [==============================] - 1s 13ms/step - loss: 0.0302 - val_loss: 0.0293\n"
     ]
    }
   ],
   "source": [
    "train = model.fit(x_train, y_train, epochs=20, validation_data=(x_valid, y_valid))"
   ]
  },
  {
   "cell_type": "code",
   "execution_count": 27,
   "id": "d78cf03f-2237-4337-8003-f3d942418c28",
   "metadata": {},
   "outputs": [
    {
     "data": {
      "image/png": "[encoded data removed]",
      "text/plain": [
       "<Figure size 576x360 with 1 Axes>"
      ]
     },
     "metadata": {
      "needs_background": "light"
     },
     "output_type": "display_data"
    }
   ],
   "source": [
    "pd.DataFrame(train.history).plot(figsize=(8,5))\n",
    "plt.grid(True)\n",
    "plt.ylim(0,0.1)\n",
    "plt.show()"
   ]
  },
  {
   "cell_type": "code",
   "execution_count": 28,
   "id": "937e5798-2f38-4154-8988-cd7dbebfcd75",
   "metadata": {},
   "outputs": [
    {
     "name": "stdout",
     "output_type": "stream",
     "text": [
      "32/32 [==============================] - 0s 4ms/step - loss: 0.0309\n"
     ]
    },
    {
     "data": {
      "text/plain": [
       "0.03094162419438362"
      ]
     },
     "execution_count": 28,
     "metadata": {},
     "output_type": "execute_result"
    }
   ],
   "source": [
    "model.evaluate(x_test, y_test)"
   ]
  },
  {
   "cell_type": "code",
   "execution_count": 29,
   "id": "738c67c7-7c9a-48c1-9e9d-d4b34df32e38",
   "metadata": {},
   "outputs": [
    {
     "name": "stdout",
     "output_type": "stream",
     "text": [
      "32/32 [==============================] - 0s 4ms/step\n"
     ]
    }
   ],
   "source": [
    "y_pred = model.predict(x_test)"
   ]
  },
  {
   "cell_type": "code",
   "execution_count": 31,
   "id": "d517db30-8159-4584-b6c3-bbfc9b46f117",
   "metadata": {},
   "outputs": [
    {
     "data": {
      "image/png": "[encoded data removed]",
      "text/plain": [
       "<Figure size 432x288 with 1 Axes>"
      ]
     },
     "metadata": {
      "needs_background": "light"
     },
     "output_type": "display_data"
    }
   ],
   "source": [
    "i = 0\n",
    "plot_seq(x_test[i, : ,0], y_test[i], y_pred[i])"
   ]
  },
  {
   "cell_type": "code",
   "execution_count": 33,
   "id": "f6d84c31-e964-47a7-94f2-fa4722fc3b4d",
   "metadata": {},
   "outputs": [],
   "source": [
    "np.random.seed(1)\n",
    "tf.random.set_seed(1)"
   ]
  },
  {
   "cell_type": "code",
   "execution_count": 34,
   "id": "875ca737-de3f-4279-bc34-b5b0b7730e7a",
   "metadata": {},
   "outputs": [],
   "source": [
    "model = keras.models.Sequential([\n",
    "    keras.layers.SimpleRNN(20, return_sequences=True, input_shape=[None,1]),\n",
    "    keras.layers.SimpleRNN(20, return_sequences=True),\n",
    "    keras.layers.SimpleRNN(1)\n",
    "])"
   ]
  },
  {
   "cell_type": "code",
   "execution_count": 35,
   "id": "b9760dc9-c0d4-43d3-ac8b-547b9b245867",
   "metadata": {},
   "outputs": [
    {
     "name": "stdout",
     "output_type": "stream",
     "text": [
      "Model: \"sequential_1\"\n",
      "_________________________________________________________________\n",
      " Layer (type)                Output Shape              Param #   \n",
      "=================================================================\n",
      " simple_rnn_1 (SimpleRNN)    (None, None, 20)          440       \n",
      "                                                                 \n",
      " simple_rnn_2 (SimpleRNN)    (None, None, 20)          820       \n",
      "                                                                 \n",
      " simple_rnn_3 (SimpleRNN)    (None, 1)                 22        \n",
      "                                                                 \n",
      "=================================================================\n",
      "Total params: 1,282\n",
      "Trainable params: 1,282\n",
      "Non-trainable params: 0\n",
      "_________________________________________________________________\n"
     ]
    }
   ],
   "source": [
    "model.summary()"
   ]
  },
  {
   "cell_type": "code",
   "execution_count": 36,
   "id": "26b1cf85-ac0d-4dc0-9fe8-6178d01f606b",
   "metadata": {},
   "outputs": [],
   "source": [
    "model.compile(loss='mse',optimizer='adam')"
   ]
  },
  {
   "cell_type": "code",
   "execution_count": 37,
   "id": "a0c47663-2b94-46f6-a232-62162ecd20d3",
   "metadata": {},
   "outputs": [
    {
     "name": "stdout",
     "output_type": "stream",
     "text": [
      "Epoch 1/20\n",
      "94/94 [==============================] - 8s 44ms/step - loss: 0.0450 - val_loss: 0.0144\n",
      "Epoch 2/20\n",
      "94/94 [==============================] - 3s 31ms/step - loss: 0.0117 - val_loss: 0.0098\n",
      "Epoch 3/20\n",
      "94/94 [==============================] - 3s 34ms/step - loss: 0.0091 - val_loss: 0.0077\n",
      "Epoch 4/20\n",
      "94/94 [==============================] - 3s 31ms/step - loss: 0.0078 - val_loss: 0.0074\n",
      "Epoch 5/20\n",
      "94/94 [==============================] - 3s 33ms/step - loss: 0.0073 - val_loss: 0.0067\n",
      "Epoch 6/20\n",
      "94/94 [==============================] - 3s 32ms/step - loss: 0.0071 - val_loss: 0.0067\n",
      "Epoch 7/20\n",
      "94/94 [==============================] - 3s 33ms/step - loss: 0.0067 - val_loss: 0.0064\n",
      "Epoch 8/20\n",
      "94/94 [==============================] - 3s 33ms/step - loss: 0.0067 - val_loss: 0.0064\n",
      "Epoch 9/20\n",
      "94/94 [==============================] - 3s 36ms/step - loss: 0.0067 - val_loss: 0.0068\n",
      "Epoch 10/20\n",
      "94/94 [==============================] - 3s 33ms/step - loss: 0.0066 - val_loss: 0.0067\n",
      "Epoch 11/20\n",
      "94/94 [==============================] - 3s 33ms/step - loss: 0.0064 - val_loss: 0.0065\n",
      "Epoch 12/20\n",
      "94/94 [==============================] - 3s 32ms/step - loss: 0.0064 - val_loss: 0.0068\n",
      "Epoch 13/20\n",
      "94/94 [==============================] - 3s 31ms/step - loss: 0.0062 - val_loss: 0.0059\n",
      "Epoch 14/20\n",
      "94/94 [==============================] - 3s 32ms/step - loss: 0.0062 - val_loss: 0.0058\n",
      "Epoch 15/20\n",
      "94/94 [==============================] - 3s 33ms/step - loss: 0.0063 - val_loss: 0.0060\n",
      "Epoch 16/20\n",
      "94/94 [==============================] - 3s 33ms/step - loss: 0.0061 - val_loss: 0.0058\n",
      "Epoch 17/20\n",
      "94/94 [==============================] - 3s 33ms/step - loss: 0.0061 - val_loss: 0.0063\n",
      "Epoch 18/20\n",
      "94/94 [==============================] - 3s 33ms/step - loss: 0.0065 - val_loss: 0.0060\n",
      "Epoch 19/20\n",
      "94/94 [==============================] - 3s 34ms/step - loss: 0.0061 - val_loss: 0.0059\n",
      "Epoch 20/20\n",
      "94/94 [==============================] - 3s 32ms/step - loss: 0.0061 - val_loss: 0.0057\n"
     ]
    }
   ],
   "source": [
    "train = model.fit(x_train, y_train, epochs=20, validation_data=(x_valid, y_valid))"
   ]
  },
  {
   "cell_type": "code",
   "execution_count": 38,
   "id": "ca0b543b-82a7-401d-b639-a62218fb1754",
   "metadata": {},
   "outputs": [
    {
     "data": {
      "image/png": "[encoded data removed]",
      "text/plain": [
       "<Figure size 576x360 with 1 Axes>"
      ]
     },
     "metadata": {
      "needs_background": "light"
     },
     "output_type": "display_data"
    }
   ],
   "source": [
    "pd.DataFrame(train.history).plot(figsize=(8,5))\n",
    "plt.grid(True)\n",
    "plt.ylim(0,0.1)\n",
    "plt.show()"
   ]
  },
  {
   "cell_type": "code",
   "execution_count": 39,
   "id": "45b2a709-ba0f-4064-ad57-fece36c0bc09",
   "metadata": {},
   "outputs": [
    {
     "name": "stdout",
     "output_type": "stream",
     "text": [
      "32/32 [==============================] - 0s 9ms/step - loss: 0.0063\n"
     ]
    },
    {
     "data": {
      "text/plain": [
       "0.006282043643295765"
      ]
     },
     "execution_count": 39,
     "metadata": {},
     "output_type": "execute_result"
    }
   ],
   "source": [
    "model.evaluate(x_test, y_test)"
   ]
  },
  {
   "cell_type": "code",
   "execution_count": 40,
   "id": "974412fe-853b-46da-8c69-ce8706696b72",
   "metadata": {},
   "outputs": [
    {
     "name": "stdout",
     "output_type": "stream",
     "text": [
      "32/32 [==============================] - 1s 8ms/step\n"
     ]
    }
   ],
   "source": [
    "y_pred = model.predict(x_test)"
   ]
  },
  {
   "cell_type": "code",
   "execution_count": 41,
   "id": "7f5aa835-147a-41d1-a97b-f8679f9c68fe",
   "metadata": {},
   "outputs": [
    {
     "data": {
      "image/png": "[encoded data removed]",
      "text/plain": [
       "<Figure size 432x288 with 1 Axes>"
      ]
     },
     "metadata": {
      "needs_background": "light"
     },
     "output_type": "display_data"
    }
   ],
   "source": [
    "i = 0\n",
    "plot_seq(x_test[i, : ,0], y_test[i], y_pred[i])"
   ]
  },
  {
   "cell_type": "markdown",
   "id": "3fdeb0bf-58d5-4ffc-bab5-5104f9f0b2d2",
   "metadata": {},
   "source": [
    "<font size=4>__**Deep RNN (dense output layer)**__</font>"
   ]
  },
  {
   "cell_type": "code",
   "execution_count": 42,
   "id": "9fe6c30d-5510-474d-ab13-a5512e4faf0d",
   "metadata": {},
   "outputs": [],
   "source": [
    "np.random.seed(1)\n",
    "tf.random.set_seed(1)"
   ]
  },
  {
   "cell_type": "code",
   "execution_count": 43,
   "id": "d36ebb34-24b8-4e09-9a22-f26b1fe11404",
   "metadata": {},
   "outputs": [],
   "source": [
    "model = keras.models.Sequential([\n",
    "    keras.layers.SimpleRNN(20, return_sequences=True, input_shape=[None,1]),\n",
    "    keras.layers.SimpleRNN(20),\n",
    "    keras.layers.Dense(1)\n",
    "])"
   ]
  },
  {
   "cell_type": "code",
   "execution_count": 44,
   "id": "24ab38d7-ef69-4734-be47-0b8f1bbb7581",
   "metadata": {},
   "outputs": [
    {
     "name": "stdout",
     "output_type": "stream",
     "text": [
      "Model: \"sequential_2\"\n",
      "_________________________________________________________________\n",
      " Layer (type)                Output Shape              Param #   \n",
      "=================================================================\n",
      " simple_rnn_4 (SimpleRNN)    (None, None, 20)          440       \n",
      "                                                                 \n",
      " simple_rnn_5 (SimpleRNN)    (None, 20)                820       \n",
      "                                                                 \n",
      " dense (Dense)               (None, 1)                 21        \n",
      "                                                                 \n",
      "=================================================================\n",
      "Total params: 1,281\n",
      "Trainable params: 1,281\n",
      "Non-trainable params: 0\n",
      "_________________________________________________________________\n"
     ]
    }
   ],
   "source": [
    "model.summary()"
   ]
  },
  {
   "cell_type": "code",
   "execution_count": 45,
   "id": "6f8dd895-4189-4978-8f74-10717c55c753",
   "metadata": {},
   "outputs": [],
   "source": [
    "model.compile(loss='mse',optimizer='adam')"
   ]
  },
  {
   "cell_type": "code",
   "execution_count": 46,
   "id": "170846ce-4ba0-4188-8e39-1ec47bb60978",
   "metadata": {},
   "outputs": [
    {
     "name": "stdout",
     "output_type": "stream",
     "text": [
      "Epoch 1/20\n",
      "94/94 [==============================] - 6s 31ms/step - loss: 0.0706 - val_loss: 0.0156\n",
      "Epoch 2/20\n",
      "94/94 [==============================] - 2s 24ms/step - loss: 0.0120 - val_loss: 0.0093\n",
      "Epoch 3/20\n",
      "94/94 [==============================] - 2s 23ms/step - loss: 0.0086 - val_loss: 0.0071\n",
      "Epoch 4/20\n",
      "94/94 [==============================] - 2s 25ms/step - loss: 0.0074 - val_loss: 0.0064\n",
      "Epoch 5/20\n",
      "94/94 [==============================] - 2s 24ms/step - loss: 0.0070 - val_loss: 0.0065\n",
      "Epoch 6/20\n",
      "94/94 [==============================] - 2s 24ms/step - loss: 0.0067 - val_loss: 0.0064\n",
      "Epoch 7/20\n",
      "94/94 [==============================] - 2s 23ms/step - loss: 0.0067 - val_loss: 0.0063\n",
      "Epoch 8/20\n",
      "94/94 [==============================] - 2s 23ms/step - loss: 0.0066 - val_loss: 0.0059\n",
      "Epoch 9/20\n",
      "94/94 [==============================] - 2s 24ms/step - loss: 0.0065 - val_loss: 0.0059\n",
      "Epoch 10/20\n",
      "94/94 [==============================] - 2s 24ms/step - loss: 0.0066 - val_loss: 0.0062\n",
      "Epoch 11/20\n",
      "94/94 [==============================] - 2s 23ms/step - loss: 0.0064 - val_loss: 0.0060\n",
      "Epoch 12/20\n",
      "94/94 [==============================] - 2s 24ms/step - loss: 0.0064 - val_loss: 0.0062\n",
      "Epoch 13/20\n",
      "94/94 [==============================] - 2s 24ms/step - loss: 0.0062 - val_loss: 0.0061\n",
      "Epoch 14/20\n",
      "94/94 [==============================] - 2s 24ms/step - loss: 0.0062 - val_loss: 0.0055\n",
      "Epoch 15/20\n",
      "94/94 [==============================] - 2s 24ms/step - loss: 0.0060 - val_loss: 0.0058\n",
      "Epoch 16/20\n",
      "94/94 [==============================] - 2s 24ms/step - loss: 0.0060 - val_loss: 0.0056\n",
      "Epoch 17/20\n",
      "94/94 [==============================] - 2s 24ms/step - loss: 0.0061 - val_loss: 0.0063\n",
      "Epoch 18/20\n",
      "94/94 [==============================] - 2s 23ms/step - loss: 0.0060 - val_loss: 0.0055\n",
      "Epoch 19/20\n",
      "94/94 [==============================] - 2s 24ms/step - loss: 0.0059 - val_loss: 0.0059\n",
      "Epoch 20/20\n",
      "94/94 [==============================] - 2s 24ms/step - loss: 0.0060 - val_loss: 0.0057\n"
     ]
    }
   ],
   "source": [
    "train = model.fit(x_train, y_train, epochs=20, validation_data=(x_valid, y_valid))"
   ]
  },
  {
   "cell_type": "code",
   "execution_count": 47,
   "id": "82da90b7-0242-48f9-bddb-636da6f56c83",
   "metadata": {},
   "outputs": [
    {
     "data": {
      "image/png": "[encoded data removed]",
      "text/plain": [
       "<Figure size 576x360 with 1 Axes>"
      ]
     },
     "metadata": {
      "needs_background": "light"
     },
     "output_type": "display_data"
    }
   ],
   "source": [
    "pd.DataFrame(train.history).plot(figsize=(8,5))\n",
    "plt.grid(True)\n",
    "plt.ylim(0,0.1)\n",
    "plt.show()"
   ]
  },
  {
   "cell_type": "code",
   "execution_count": 48,
   "id": "0b91c38a-56ae-47c8-8a31-64ac5ad89dc3",
   "metadata": {},
   "outputs": [
    {
     "name": "stdout",
     "output_type": "stream",
     "text": [
      "32/32 [==============================] - 0s 6ms/step - loss: 0.0061\n"
     ]
    },
    {
     "data": {
      "text/plain": [
       "0.006054014433175325"
      ]
     },
     "execution_count": 48,
     "metadata": {},
     "output_type": "execute_result"
    }
   ],
   "source": [
    "model.evaluate(x_test, y_test)"
   ]
  },
  {
   "cell_type": "code",
   "execution_count": 49,
   "id": "f228290a-426b-4f51-aebf-3738cd7cfceb",
   "metadata": {},
   "outputs": [
    {
     "name": "stdout",
     "output_type": "stream",
     "text": [
      "32/32 [==============================] - 1s 7ms/step\n"
     ]
    }
   ],
   "source": [
    "y_pred = model.predict(x_test)"
   ]
  },
  {
   "cell_type": "code",
   "execution_count": 50,
   "id": "ff154b32-51ed-4882-a7c8-4a5b59f9bbdb",
   "metadata": {},
   "outputs": [
    {
     "data": {
      "image/png": "[encoded data removed]",
      "text/plain": [
       "<Figure size 432x288 with 1 Axes>"
      ]
     },
     "metadata": {
      "needs_background": "light"
     },
     "output_type": "display_data"
    }
   ],
   "source": [
    "i = 0\n",
    "plot_seq(x_test[i, : ,0], y_test[i], y_pred[i])"
   ]
  },
  {
   "cell_type": "code",
   "execution_count": null,
   "id": "288d43a3-4269-4ec4-9ff4-9d388470a3ac",
   "metadata": {},
   "outputs": [],
   "source": []
  }
 ],
 "metadata": {
  "kernelspec": {
   "display_name": "Python 3",
   "language": "python",
   "name": "python3"
  },
  "language_info": {
   "codemirror_mode": {
    "name": "ipython",
    "version": 3
   },
   "file_extension": ".py",
   "mimetype": "text/x-python",
   "name": "python",
   "nbconvert_exporter": "python",
   "pygments_lexer": "ipython3",
   "version": "3.8.8"
  }
 },
 "nbformat": 4,
 "nbformat_minor": 5
}
