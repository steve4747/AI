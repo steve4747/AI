{
 "cells": [
  {
   "cell_type": "code",
   "execution_count": 1,
   "id": "fe109338-9be0-4a7b-8b73-121f025f188f",
   "metadata": {},
   "outputs": [],
   "source": [
    "import tensorflow as tf\n",
    "from tensorflow import keras\n",
    "import numpy as np"
   ]
  },
  {
   "cell_type": "code",
   "execution_count": 3,
   "id": "40e41929-746c-49d6-8800-f6062a779b1d",
   "metadata": {},
   "outputs": [],
   "source": [
    "#load data\n",
    "from tensorflow.keras.datasets import fashion_mnist\n",
    "(x_train_set, y_train_set), (x_test, y_test) = fashion_mnist.load_data()\n",
    "\n",
    "#Split data\n",
    "from sklearn.model_selection import train_test_split\n",
    "x_train, x_valid, y_train, y_valid = train_test_split(x_train_set, y_train_set, random_state=1)\n",
    "\n",
    "#Preprocessing\n",
    "x_train = x_train/ 255.0\n",
    "x_valid = x_valid/ 255.0\n",
    "x_test = x_test/ 255.0"
   ]
  },
  {
   "cell_type": "code",
   "execution_count": 5,
   "id": "735cb6f1-8abc-4011-9f23-b48d9b74fa4b",
   "metadata": {},
   "outputs": [],
   "source": [
    "def split_data(x, y):\n",
    "    ind_B = (y==4) | (y==5)\n",
    "    y_B = (y[ind_B]==5).astype(np.float32)\n",
    "    y_A = y[~ind_B]\n",
    "    y_A[y_A>5] -= 2\n",
    "    return (x[~ind_B], y_A), (x[ind_B], y_B)\n",
    "(x_train_A, y_train_A), (x_train_B, y_train_B) = split_data(x_train, y_train)\n",
    "(x_valid_A, y_valid_A), (x_valid_B, y_valid_B) = split_data(x_valid, y_valid)\n",
    "(x_test_A, y_test_A), (x_test_B, y_test_B) = split_data(x_test, y_test)\n",
    "\n",
    "x_train_B, y_train_B = x_train_B[:100], y_train_B[:100]"
   ]
  },
  {
   "cell_type": "code",
   "execution_count": 7,
   "id": "c7a0a3ab-ff07-4190-af6f-9b3f9fb52349",
   "metadata": {},
   "outputs": [
    {
     "data": {
      "text/plain": [
       "((35968, 28, 28), array([0, 7, 6, 2, 2, 1, 1, 1, 6, 7], dtype=uint8))"
      ]
     },
     "execution_count": 7,
     "metadata": {},
     "output_type": "execute_result"
    }
   ],
   "source": [
    "x_train_A.shape, y_train_A[:10]"
   ]
  },
  {
   "cell_type": "code",
   "execution_count": 8,
   "id": "5186f08b-b42f-42fb-9497-4a005c816b5e",
   "metadata": {},
   "outputs": [
    {
     "data": {
      "text/plain": [
       "((100, 28, 28), array([1., 0., 0., 0., 1., 1., 1., 0., 0., 0.], dtype=float32))"
      ]
     },
     "execution_count": 8,
     "metadata": {},
     "output_type": "execute_result"
    }
   ],
   "source": [
    "x_train_B.shape, y_train_B[:10]"
   ]
  },
  {
   "cell_type": "code",
   "execution_count": 10,
   "id": "c3d30799-6531-4aaa-98b9-381e4a4cf615",
   "metadata": {},
   "outputs": [],
   "source": [
    "#先設置一個ModelA來對DataA進行訓練\n",
    "\n",
    "keras.backend.clear_session()\n",
    "np.random.seed(1)\n",
    "tf.random.set_seed(1)"
   ]
  },
  {
   "cell_type": "code",
   "execution_count": 11,
   "id": "5cf25ee3-6f8e-4b90-9b73-62f590c022df",
   "metadata": {},
   "outputs": [],
   "source": [
    "model_A = keras.models.Sequential()\n",
    "model_A.add(keras.layers.Flatten(input_shape=[28,28]))\n",
    "for hidden_i in (200, 150, 100, 50):\n",
    "    model_A.add(keras.layers.Dense(hidden_i, activation='relu'))\n",
    "model_A.add(keras.layers.Dense(8,activation='softmax'))"
   ]
  },
  {
   "cell_type": "code",
   "execution_count": 12,
   "id": "797082eb-db80-4261-b5f4-ca43011919bd",
   "metadata": {},
   "outputs": [
    {
     "name": "stdout",
     "output_type": "stream",
     "text": [
      "Model: \"sequential\"\n",
      "_________________________________________________________________\n",
      " Layer (type)                Output Shape              Param #   \n",
      "=================================================================\n",
      " flatten (Flatten)           (None, 784)               0         \n",
      "                                                                 \n",
      " dense (Dense)               (None, 200)               157000    \n",
      "                                                                 \n",
      " dense_1 (Dense)             (None, 150)               30150     \n",
      "                                                                 \n",
      " dense_2 (Dense)             (None, 100)               15100     \n",
      "                                                                 \n",
      " dense_3 (Dense)             (None, 50)                5050      \n",
      "                                                                 \n",
      " dense_4 (Dense)             (None, 8)                 408       \n",
      "                                                                 \n",
      "=================================================================\n",
      "Total params: 207,708\n",
      "Trainable params: 207,708\n",
      "Non-trainable params: 0\n",
      "_________________________________________________________________\n"
     ]
    }
   ],
   "source": [
    "model_A.summary()"
   ]
  },
  {
   "cell_type": "code",
   "execution_count": 13,
   "id": "2841461e-5b10-4004-84a9-1d738c785f99",
   "metadata": {},
   "outputs": [],
   "source": [
    "model_A.compile(loss='sparse_categorical_crossentropy',\n",
    "               optimizer=keras.optimizers.SGD(learning_rate=1e-3),\n",
    "               metrics=['accuracy'])"
   ]
  },
  {
   "cell_type": "code",
   "execution_count": 14,
   "id": "d78f1129-7c94-4336-8472-cb2f95a250f9",
   "metadata": {},
   "outputs": [
    {
     "name": "stdout",
     "output_type": "stream",
     "text": [
      "Epoch 1/20\n",
      "1124/1124 [==============================] - 8s 6ms/step - loss: 1.5908 - accuracy: 0.6152 - val_loss: 1.0464 - val_accuracy: 0.7776\n",
      "Epoch 2/20\n",
      "1124/1124 [==============================] - 7s 6ms/step - loss: 0.7812 - accuracy: 0.8022 - val_loss: 0.6255 - val_accuracy: 0.8090\n",
      "Epoch 3/20\n",
      "1124/1124 [==============================] - 7s 6ms/step - loss: 0.5711 - accuracy: 0.8166 - val_loss: 0.5318 - val_accuracy: 0.8245\n",
      "Epoch 4/20\n",
      "1124/1124 [==============================] - 7s 6ms/step - loss: 0.5090 - accuracy: 0.8270 - val_loss: 0.4893 - val_accuracy: 0.8329\n",
      "Epoch 5/20\n",
      "1124/1124 [==============================] - 7s 6ms/step - loss: 0.4760 - accuracy: 0.8346 - val_loss: 0.4702 - val_accuracy: 0.8297\n",
      "Epoch 6/20\n",
      "1124/1124 [==============================] - 7s 6ms/step - loss: 0.4533 - accuracy: 0.8420 - val_loss: 0.4448 - val_accuracy: 0.8453\n",
      "Epoch 7/20\n",
      "1124/1124 [==============================] - 7s 6ms/step - loss: 0.4360 - accuracy: 0.8479 - val_loss: 0.4321 - val_accuracy: 0.8466\n",
      "Epoch 8/20\n",
      "1124/1124 [==============================] - 7s 6ms/step - loss: 0.4218 - accuracy: 0.8527 - val_loss: 0.4183 - val_accuracy: 0.8516\n",
      "Epoch 9/20\n",
      "1124/1124 [==============================] - 7s 6ms/step - loss: 0.4100 - accuracy: 0.8562 - val_loss: 0.4074 - val_accuracy: 0.8583\n",
      "Epoch 10/20\n",
      "1124/1124 [==============================] - 7s 6ms/step - loss: 0.4002 - accuracy: 0.8605 - val_loss: 0.4005 - val_accuracy: 0.8576\n",
      "Epoch 11/20\n",
      "1124/1124 [==============================] - 7s 6ms/step - loss: 0.3910 - accuracy: 0.8629 - val_loss: 0.3903 - val_accuracy: 0.8608\n",
      "Epoch 12/20\n",
      "1124/1124 [==============================] - 7s 6ms/step - loss: 0.3838 - accuracy: 0.8666 - val_loss: 0.3859 - val_accuracy: 0.8630\n",
      "Epoch 13/20\n",
      "1124/1124 [==============================] - 7s 7ms/step - loss: 0.3770 - accuracy: 0.8688 - val_loss: 0.3789 - val_accuracy: 0.8649\n",
      "Epoch 14/20\n",
      "1124/1124 [==============================] - 7s 6ms/step - loss: 0.3707 - accuracy: 0.8711 - val_loss: 0.3713 - val_accuracy: 0.8676\n",
      "Epoch 15/20\n",
      "1124/1124 [==============================] - 7s 6ms/step - loss: 0.3652 - accuracy: 0.8723 - val_loss: 0.3722 - val_accuracy: 0.8666\n",
      "Epoch 16/20\n",
      "1124/1124 [==============================] - 7s 6ms/step - loss: 0.3601 - accuracy: 0.8742 - val_loss: 0.3622 - val_accuracy: 0.8714\n",
      "Epoch 17/20\n",
      "1124/1124 [==============================] - 6s 6ms/step - loss: 0.3552 - accuracy: 0.8759 - val_loss: 0.3597 - val_accuracy: 0.8713\n",
      "Epoch 18/20\n",
      "1124/1124 [==============================] - 6s 6ms/step - loss: 0.3507 - accuracy: 0.8769 - val_loss: 0.3582 - val_accuracy: 0.8719\n",
      "Epoch 19/20\n",
      "1124/1124 [==============================] - 6s 6ms/step - loss: 0.3467 - accuracy: 0.8796 - val_loss: 0.3602 - val_accuracy: 0.8684\n",
      "Epoch 20/20\n",
      "1124/1124 [==============================] - 6s 6ms/step - loss: 0.3423 - accuracy: 0.8798 - val_loss: 0.3479 - val_accuracy: 0.8751\n"
     ]
    }
   ],
   "source": [
    "train = model_A.fit(x_train_A, y_train_A, epochs=20,\n",
    "                   validation_data=(x_valid_A, y_valid_A))"
   ]
  },
  {
   "cell_type": "code",
   "execution_count": 15,
   "id": "11613c72-f1ff-47d9-8c4f-8251d8026df6",
   "metadata": {},
   "outputs": [
    {
     "name": "stdout",
     "output_type": "stream",
     "text": [
      "250/250 [==============================] - 1s 3ms/step - loss: 0.3774 - accuracy: 0.8666\n"
     ]
    },
    {
     "data": {
      "text/plain": [
       "[0.37736156582832336, 0.8666250109672546]"
      ]
     },
     "execution_count": 15,
     "metadata": {},
     "output_type": "execute_result"
    }
   ],
   "source": [
    "model_A.evaluate(x_test_A, y_test_A)"
   ]
  },
  {
   "cell_type": "code",
   "execution_count": 16,
   "id": "b8e6a853-d095-4f33-8cdc-167f9dea5cf6",
   "metadata": {},
   "outputs": [],
   "source": [
    "model_A.save('model_A.h5')"
   ]
  },
  {
   "cell_type": "code",
   "execution_count": 19,
   "id": "c875ac50-cc31-43a3-bf6b-1a5b22a5032e",
   "metadata": {},
   "outputs": [],
   "source": [
    "#Model_B\n",
    "\n",
    "model_B = keras.models.Sequential()\n",
    "model_B.add(keras.layers.Flatten(input_shape=[28,28]))\n",
    "for hidden_i in (300, 150, 100, 80):\n",
    "    model_B.add(keras.layers.Dense(hidden_i, activation='relu'))\n",
    "model_B.add(keras.layers.Dense(1, activation='sigmoid'))"
   ]
  },
  {
   "cell_type": "code",
   "execution_count": 20,
   "id": "05132280-fc91-44c2-aac4-99fead5e271e",
   "metadata": {},
   "outputs": [
    {
     "name": "stdout",
     "output_type": "stream",
     "text": [
      "Model: \"sequential_2\"\n",
      "_________________________________________________________________\n",
      " Layer (type)                Output Shape              Param #   \n",
      "=================================================================\n",
      " flatten_2 (Flatten)         (None, 784)               0         \n",
      "                                                                 \n",
      " dense_10 (Dense)            (None, 300)               235500    \n",
      "                                                                 \n",
      " dense_11 (Dense)            (None, 150)               45150     \n",
      "                                                                 \n",
      " dense_12 (Dense)            (None, 100)               15100     \n",
      "                                                                 \n",
      " dense_13 (Dense)            (None, 80)                8080      \n",
      "                                                                 \n",
      " dense_14 (Dense)            (None, 1)                 81        \n",
      "                                                                 \n",
      "=================================================================\n",
      "Total params: 303,911\n",
      "Trainable params: 303,911\n",
      "Non-trainable params: 0\n",
      "_________________________________________________________________\n"
     ]
    }
   ],
   "source": [
    "model_B.summary()"
   ]
  },
  {
   "cell_type": "code",
   "execution_count": 21,
   "id": "398cc2f8-949e-4d28-9321-058b7c8f92f8",
   "metadata": {},
   "outputs": [],
   "source": [
    "model_B.compile(loss='binary_crossentropy',\n",
    "               optimizer=keras.optimizers.SGD(learning_rate=1e-3),\n",
    "                metrics=['accuracy'])"
   ]
  },
  {
   "cell_type": "code",
   "execution_count": 22,
   "id": "954e2bd4-ea14-43cc-a6a4-51ef27a7865e",
   "metadata": {},
   "outputs": [
    {
     "name": "stdout",
     "output_type": "stream",
     "text": [
      "Epoch 1/20\n",
      "4/4 [==============================] - 2s 251ms/step - loss: 0.7131 - accuracy: 0.3900 - val_loss: 0.7092 - val_accuracy: 0.3757\n",
      "Epoch 2/20\n",
      "4/4 [==============================] - 0s 126ms/step - loss: 0.7044 - accuracy: 0.4000 - val_loss: 0.7007 - val_accuracy: 0.4505\n",
      "Epoch 3/20\n",
      "4/4 [==============================] - 0s 147ms/step - loss: 0.6955 - accuracy: 0.5200 - val_loss: 0.6894 - val_accuracy: 0.5421\n",
      "Epoch 4/20\n",
      "4/4 [==============================] - 0s 107ms/step - loss: 0.6838 - accuracy: 0.6200 - val_loss: 0.6774 - val_accuracy: 0.5984\n",
      "Epoch 5/20\n",
      "4/4 [==============================] - 0s 116ms/step - loss: 0.6722 - accuracy: 0.6800 - val_loss: 0.6698 - val_accuracy: 0.6216\n",
      "Epoch 6/20\n",
      "4/4 [==============================] - 0s 148ms/step - loss: 0.6643 - accuracy: 0.6800 - val_loss: 0.6622 - val_accuracy: 0.6344\n",
      "Epoch 7/20\n",
      "4/4 [==============================] - 0s 126ms/step - loss: 0.6566 - accuracy: 0.6800 - val_loss: 0.6538 - val_accuracy: 0.6435\n",
      "Epoch 8/20\n",
      "4/4 [==============================] - 0s 141ms/step - loss: 0.6484 - accuracy: 0.6700 - val_loss: 0.6455 - val_accuracy: 0.6415\n",
      "Epoch 9/20\n",
      "4/4 [==============================] - 0s 120ms/step - loss: 0.6400 - accuracy: 0.6600 - val_loss: 0.6382 - val_accuracy: 0.6395\n",
      "Epoch 10/20\n",
      "4/4 [==============================] - 0s 116ms/step - loss: 0.6326 - accuracy: 0.6700 - val_loss: 0.6320 - val_accuracy: 0.6344\n",
      "Epoch 11/20\n",
      "4/4 [==============================] - 0s 115ms/step - loss: 0.6264 - accuracy: 0.6900 - val_loss: 0.6247 - val_accuracy: 0.6280\n",
      "Epoch 12/20\n",
      "4/4 [==============================] - 0s 118ms/step - loss: 0.6192 - accuracy: 0.6800 - val_loss: 0.6199 - val_accuracy: 0.6307\n",
      "Epoch 13/20\n",
      "4/4 [==============================] - 0s 132ms/step - loss: 0.6144 - accuracy: 0.6900 - val_loss: 0.6153 - val_accuracy: 0.6301\n",
      "Epoch 14/20\n",
      "4/4 [==============================] - 0s 125ms/step - loss: 0.6096 - accuracy: 0.6700 - val_loss: 0.6094 - val_accuracy: 0.6237\n",
      "Epoch 15/20\n",
      "4/4 [==============================] - 0s 127ms/step - loss: 0.6036 - accuracy: 0.6700 - val_loss: 0.6047 - val_accuracy: 0.6189\n",
      "Epoch 16/20\n",
      "4/4 [==============================] - 0s 126ms/step - loss: 0.5989 - accuracy: 0.6700 - val_loss: 0.6007 - val_accuracy: 0.6196\n",
      "Epoch 17/20\n",
      "4/4 [==============================] - 0s 117ms/step - loss: 0.5948 - accuracy: 0.6700 - val_loss: 0.5976 - val_accuracy: 0.6260\n",
      "Epoch 18/20\n",
      "4/4 [==============================] - 0s 115ms/step - loss: 0.5915 - accuracy: 0.6800 - val_loss: 0.5940 - val_accuracy: 0.6297\n",
      "Epoch 19/20\n",
      "4/4 [==============================] - 0s 124ms/step - loss: 0.5876 - accuracy: 0.6800 - val_loss: 0.5887 - val_accuracy: 0.6206\n",
      "Epoch 20/20\n",
      "4/4 [==============================] - 0s 117ms/step - loss: 0.5822 - accuracy: 0.6700 - val_loss: 0.5848 - val_accuracy: 0.6183\n"
     ]
    }
   ],
   "source": [
    "train = model_B.fit(x_train_B, y_train_B, epochs=20,\n",
    "                   validation_data=(x_valid_B, y_valid_B))"
   ]
  },
  {
   "cell_type": "code",
   "execution_count": 23,
   "id": "b006f0f2-c8c9-485a-9ccb-a8f6a177f9fb",
   "metadata": {},
   "outputs": [
    {
     "name": "stdout",
     "output_type": "stream",
     "text": [
      "63/63 [==============================] - 0s 3ms/step - loss: 0.5799 - accuracy: 0.6435\n"
     ]
    },
    {
     "data": {
      "text/plain": [
       "[0.5798544883728027, 0.6434999704360962]"
      ]
     },
     "execution_count": 23,
     "metadata": {},
     "output_type": "execute_result"
    }
   ],
   "source": [
    "model_B.evaluate(x_test_B, y_test_B)"
   ]
  },
  {
   "cell_type": "code",
   "execution_count": 24,
   "id": "36ff899b-af33-42e6-80e6-cd96215b1ca1",
   "metadata": {},
   "outputs": [],
   "source": [
    "#Transfer Learning\n",
    "\n",
    "#1. Load model_A\n",
    "model_A = keras.models.load_model('model_A.h5')"
   ]
  },
  {
   "cell_type": "code",
   "execution_count": 25,
   "id": "ab5f1ced-334a-4364-9087-84b42d9cb05a",
   "metadata": {},
   "outputs": [],
   "source": [
    "#2. 使用model_A較低層\n",
    "\n",
    "model_tr = keras.models.Sequential(model_A.layers[:-2])"
   ]
  },
  {
   "cell_type": "code",
   "execution_count": 26,
   "id": "964dfafa-344d-4ef9-b9dc-fb9bf456b056",
   "metadata": {},
   "outputs": [
    {
     "name": "stdout",
     "output_type": "stream",
     "text": [
      "Model: \"sequential_3\"\n",
      "_________________________________________________________________\n",
      " Layer (type)                Output Shape              Param #   \n",
      "=================================================================\n",
      " flatten (Flatten)           (None, 784)               0         \n",
      "                                                                 \n",
      " dense (Dense)               (None, 200)               157000    \n",
      "                                                                 \n",
      " dense_1 (Dense)             (None, 150)               30150     \n",
      "                                                                 \n",
      " dense_2 (Dense)             (None, 100)               15100     \n",
      "                                                                 \n",
      "=================================================================\n",
      "Total params: 202,250\n",
      "Trainable params: 202,250\n",
      "Non-trainable params: 0\n",
      "_________________________________________________________________\n"
     ]
    }
   ],
   "source": [
    "model_tr.summary()"
   ]
  },
  {
   "cell_type": "code",
   "execution_count": 27,
   "id": "e7848b9f-edd7-4c22-86bb-04cc2cd71db9",
   "metadata": {},
   "outputs": [],
   "source": [
    "#3. 替換Model_A較高層\n",
    "\n",
    "model_tr.add(keras.layers.Dense(80, activation='relu'))\n",
    "model_tr.add(keras.layers.Dense(1, activation='sigmoid'))"
   ]
  },
  {
   "cell_type": "code",
   "execution_count": 28,
   "id": "b8791b70-cc31-4b0a-aa28-894e02768fd5",
   "metadata": {},
   "outputs": [
    {
     "name": "stdout",
     "output_type": "stream",
     "text": [
      "Model: \"sequential_3\"\n",
      "_________________________________________________________________\n",
      " Layer (type)                Output Shape              Param #   \n",
      "=================================================================\n",
      " flatten (Flatten)           (None, 784)               0         \n",
      "                                                                 \n",
      " dense (Dense)               (None, 200)               157000    \n",
      "                                                                 \n",
      " dense_1 (Dense)             (None, 150)               30150     \n",
      "                                                                 \n",
      " dense_2 (Dense)             (None, 100)               15100     \n",
      "                                                                 \n",
      " dense_15 (Dense)            (None, 80)                8080      \n",
      "                                                                 \n",
      " dense_16 (Dense)            (None, 1)                 81        \n",
      "                                                                 \n",
      "=================================================================\n",
      "Total params: 210,411\n",
      "Trainable params: 210,411\n",
      "Non-trainable params: 0\n",
      "_________________________________________________________________\n"
     ]
    }
   ],
   "source": [
    "model_tr.summary()"
   ]
  },
  {
   "cell_type": "code",
   "execution_count": 29,
   "id": "0db6b796-0572-46a4-adc6-3d07d6c1e6b4",
   "metadata": {},
   "outputs": [],
   "source": [
    "#4.初期訓練(Epoch1~4)\n",
    "\n",
    "for layer in model_tr.layers[:-2]:\n",
    "    layer.trainable = False"
   ]
  },
  {
   "cell_type": "code",
   "execution_count": 30,
   "id": "5a76753a-0a11-4f3a-bea4-078f4bf0669d",
   "metadata": {},
   "outputs": [
    {
     "name": "stdout",
     "output_type": "stream",
     "text": [
      "Model: \"sequential_3\"\n",
      "____________________________________________________________________________\n",
      " Layer (type)                Output Shape              Param #   Trainable  \n",
      "============================================================================\n",
      " flatten (Flatten)           (None, 784)               0         N          \n",
      "                                                                            \n",
      " dense (Dense)               (None, 200)               157000    N          \n",
      "                                                                            \n",
      " dense_1 (Dense)             (None, 150)               30150     N          \n",
      "                                                                            \n",
      " dense_2 (Dense)             (None, 100)               15100     N          \n",
      "                                                                            \n",
      " dense_15 (Dense)            (None, 80)                8080      Y          \n",
      "                                                                            \n",
      " dense_16 (Dense)            (None, 1)                 81        Y          \n",
      "                                                                            \n",
      "============================================================================\n",
      "Total params: 210,411\n",
      "Trainable params: 8,161\n",
      "Non-trainable params: 202,250\n",
      "____________________________________________________________________________\n"
     ]
    }
   ],
   "source": [
    "model_tr.summary(show_trainable=True)"
   ]
  },
  {
   "cell_type": "code",
   "execution_count": 36,
   "id": "7e7b0a12-a000-4579-8525-982ca083f54f",
   "metadata": {},
   "outputs": [],
   "source": [
    "model_tr.compile(loss='binary_crossentropy',\n",
    "                optimizer=keras.optimizers.SGD(learning_rate=1e-3),\n",
    "                metrics=['accuracy'])"
   ]
  },
  {
   "cell_type": "code",
   "execution_count": 37,
   "id": "ce84d908-233a-42c0-a6da-d85d75fa8d59",
   "metadata": {},
   "outputs": [
    {
     "name": "stdout",
     "output_type": "stream",
     "text": [
      "Epoch 1/4\n",
      "4/4 [==============================] - 1s 217ms/step - loss: 1.0867 - accuracy: 0.1000 - val_loss: 1.0018 - val_accuracy: 0.1253\n",
      "Epoch 2/4\n",
      "4/4 [==============================] - 0s 125ms/step - loss: 0.9868 - accuracy: 0.1800 - val_loss: 0.9166 - val_accuracy: 0.2426\n",
      "Epoch 3/4\n",
      "4/4 [==============================] - 0s 142ms/step - loss: 0.9072 - accuracy: 0.3000 - val_loss: 0.8355 - val_accuracy: 0.3999\n",
      "Epoch 4/4\n",
      "4/4 [==============================] - 0s 106ms/step - loss: 0.8318 - accuracy: 0.3900 - val_loss: 0.7879 - val_accuracy: 0.4569\n"
     ]
    }
   ],
   "source": [
    "train = model_tr.fit(x_train_B, y_train_B, epochs=4,\n",
    "                    validation_data=(x_valid_B, y_valid_B))"
   ]
  },
  {
   "cell_type": "code",
   "execution_count": 38,
   "id": "b38199eb-dd69-4a55-a4e5-8de687de29be",
   "metadata": {},
   "outputs": [],
   "source": [
    "#5.後期訓練(epochs 5~20)\n",
    "\n",
    "for layer in model_tr.layers[:-2]:\n",
    "    layer.trainable=True"
   ]
  },
  {
   "cell_type": "code",
   "execution_count": 39,
   "id": "5949d338-0690-43b3-9cef-bae71ac96148",
   "metadata": {},
   "outputs": [
    {
     "name": "stdout",
     "output_type": "stream",
     "text": [
      "Model: \"sequential_3\"\n",
      "____________________________________________________________________________\n",
      " Layer (type)                Output Shape              Param #   Trainable  \n",
      "============================================================================\n",
      " flatten (Flatten)           (None, 784)               0         Y          \n",
      "                                                                            \n",
      " dense (Dense)               (None, 200)               157000    Y          \n",
      "                                                                            \n",
      " dense_1 (Dense)             (None, 150)               30150     Y          \n",
      "                                                                            \n",
      " dense_2 (Dense)             (None, 100)               15100     Y          \n",
      "                                                                            \n",
      " dense_15 (Dense)            (None, 80)                8080      Y          \n",
      "                                                                            \n",
      " dense_16 (Dense)            (None, 1)                 81        Y          \n",
      "                                                                            \n",
      "============================================================================\n",
      "Total params: 210,411\n",
      "Trainable params: 210,411\n",
      "Non-trainable params: 0\n",
      "____________________________________________________________________________\n"
     ]
    }
   ],
   "source": [
    "model_tr.summary(show_trainable=True)"
   ]
  },
  {
   "cell_type": "code",
   "execution_count": 40,
   "id": "df44bc65-4c8c-433a-b8e9-7ae9760297b3",
   "metadata": {},
   "outputs": [],
   "source": [
    "model_tr.compile(loss='binary_crossentropy',\n",
    "                optimizer=keras.optimizers.SGD(learning_rate=1e-3),\n",
    "                metrics=['accuracy'])"
   ]
  },
  {
   "cell_type": "code",
   "execution_count": 41,
   "id": "856de98e-a02c-4f34-95c0-f1ea57536697",
   "metadata": {},
   "outputs": [
    {
     "name": "stdout",
     "output_type": "stream",
     "text": [
      "Epoch 1/16\n",
      "4/4 [==============================] - 2s 202ms/step - loss: 0.7792 - accuracy: 0.4600 - val_loss: 0.7321 - val_accuracy: 0.4700\n",
      "Epoch 2/16\n",
      "4/4 [==============================] - 0s 122ms/step - loss: 0.7215 - accuracy: 0.4800 - val_loss: 0.6807 - val_accuracy: 0.4842\n",
      "Epoch 3/16\n",
      "4/4 [==============================] - 0s 139ms/step - loss: 0.6700 - accuracy: 0.4900 - val_loss: 0.6325 - val_accuracy: 0.4963\n",
      "Epoch 4/16\n",
      "4/4 [==============================] - 0s 112ms/step - loss: 0.6215 - accuracy: 0.5000 - val_loss: 0.5975 - val_accuracy: 0.5057\n",
      "Epoch 5/16\n",
      "4/4 [==============================] - 0s 118ms/step - loss: 0.5883 - accuracy: 0.5000 - val_loss: 0.5626 - val_accuracy: 0.5347\n",
      "Epoch 6/16\n",
      "4/4 [==============================] - 0s 132ms/step - loss: 0.5504 - accuracy: 0.5400 - val_loss: 0.5288 - val_accuracy: 0.5873\n",
      "Epoch 7/16\n",
      "4/4 [==============================] - 0s 122ms/step - loss: 0.5165 - accuracy: 0.6300 - val_loss: 0.5009 - val_accuracy: 0.6418\n",
      "Epoch 8/16\n",
      "4/4 [==============================] - 0s 111ms/step - loss: 0.4888 - accuracy: 0.6500 - val_loss: 0.4789 - val_accuracy: 0.6914\n",
      "Epoch 9/16\n",
      "4/4 [==============================] - 0s 121ms/step - loss: 0.4656 - accuracy: 0.6700 - val_loss: 0.4556 - val_accuracy: 0.7318\n",
      "Epoch 10/16\n",
      "4/4 [==============================] - 0s 116ms/step - loss: 0.4420 - accuracy: 0.7200 - val_loss: 0.4368 - val_accuracy: 0.7736\n",
      "Epoch 11/16\n",
      "4/4 [==============================] - 0s 90ms/step - loss: 0.4235 - accuracy: 0.7700 - val_loss: 0.4198 - val_accuracy: 0.7861\n",
      "Epoch 12/16\n",
      "4/4 [==============================] - 0s 113ms/step - loss: 0.4055 - accuracy: 0.8000 - val_loss: 0.3994 - val_accuracy: 0.8396\n",
      "Epoch 13/16\n",
      "4/4 [==============================] - 0s 115ms/step - loss: 0.3854 - accuracy: 0.8900 - val_loss: 0.3827 - val_accuracy: 0.8689\n",
      "Epoch 14/16\n",
      "4/4 [==============================] - 0s 112ms/step - loss: 0.3689 - accuracy: 0.9300 - val_loss: 0.3685 - val_accuracy: 0.8757\n",
      "Epoch 15/16\n",
      "4/4 [==============================] - 0s 115ms/step - loss: 0.3543 - accuracy: 0.9400 - val_loss: 0.3556 - val_accuracy: 0.8942\n",
      "Epoch 16/16\n",
      "4/4 [==============================] - 0s 116ms/step - loss: 0.3414 - accuracy: 0.9400 - val_loss: 0.3435 - val_accuracy: 0.9127\n"
     ]
    }
   ],
   "source": [
    "train = model_tr.fit(x_train_B, y_train_B, epochs=16,\n",
    "                    validation_data=(x_valid_B, y_valid_B))"
   ]
  },
  {
   "cell_type": "code",
   "execution_count": 42,
   "id": "ecb224b5-e1ae-441c-a4d0-4ce195bdaa39",
   "metadata": {},
   "outputs": [
    {
     "name": "stdout",
     "output_type": "stream",
     "text": [
      "63/63 [==============================] - 0s 3ms/step - loss: 0.3365 - accuracy: 0.9185\n"
     ]
    },
    {
     "data": {
      "text/plain": [
       "[0.33649739623069763, 0.9185000061988831]"
      ]
     },
     "execution_count": 42,
     "metadata": {},
     "output_type": "execute_result"
    }
   ],
   "source": [
    "model_tr.evaluate(x_test_B, y_test_B)"
   ]
  },
  {
   "cell_type": "code",
   "execution_count": null,
   "id": "038f65ae-928e-4457-85d2-06bb01f9eba4",
   "metadata": {},
   "outputs": [],
   "source": [
    "model_B.evaluate(x_testB)"
   ]
  }
 ],
 "metadata": {
  "kernelspec": {
   "display_name": "Python 3",
   "language": "python",
   "name": "python3"
  },
  "language_info": {
   "codemirror_mode": {
    "name": "ipython",
    "version": 3
   },
   "file_extension": ".py",
   "mimetype": "text/x-python",
   "name": "python",
   "nbconvert_exporter": "python",
   "pygments_lexer": "ipython3",
   "version": "3.8.8"
  }
 },
 "nbformat": 4,
 "nbformat_minor": 5
}
